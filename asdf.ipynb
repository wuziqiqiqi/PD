{
 "cells": [
  {
   "cell_type": "code",
   "execution_count": 1,
   "metadata": {},
   "outputs": [],
   "source": [
    "import numpy as np\n",
    "import yaml\n",
    "import os\n",
    "import shutil\n",
    "import glob\n",
    "from clease.settings import Concentration\n",
    "from clease.settings import CEBulk\n",
    "from clease.structgen import NewStructures\n",
    "from ase.db import connect\n",
    "from ase.io import read\n",
    "from ase.visualize import view\n",
    "from ase.calculators.eam import EAM\n",
    "from clease.tools import update_db\n",
    "from clease import Evaluate\n",
    "from clease import NewStructures\n",
    "from clease.calculator import attach_calculator\n",
    "from clease.montecarlo import Montecarlo\n",
    "import clease\n",
    "\n",
    "# from gpaw import GPAW\n",
    "from ase.calculators.emt import EMT\n",
    "import json\n",
    "\n",
    "import clease.plot_post_process as pp\n",
    "import matplotlib.pyplot as plt"
   ]
  },
  {
   "cell_type": "code",
   "execution_count": 3,
   "metadata": {},
   "outputs": [
    {
     "name": "stdout",
     "output_type": "stream",
     "text": [
      "ase.calculators.singlepoint\n"
     ]
    }
   ],
   "source": [
    "atoms = read(\"/Users/Michael_wang/Documents/venkat/artemis-PD/PD/Li2Mg22_ID_62_scf_1.pwi.pwo\")\n",
    "print(atoms.calc.__module__)"
   ]
  },
  {
   "cell_type": "code",
   "execution_count": 6,
   "metadata": {},
   "outputs": [
    {
     "data": {
      "text/plain": [
       "1"
      ]
     },
     "execution_count": 6,
     "metadata": {},
     "output_type": "execute_result"
    }
   ],
   "source": [
    "db = connect(\"asdf.db\")\n",
    "db.write(atoms=atoms)"
   ]
  },
  {
   "cell_type": "code",
   "execution_count": 8,
   "metadata": {},
   "outputs": [
    {
     "name": "stdout",
     "output_type": "stream",
     "text": [
      "-37893.56685284874\n"
     ]
    }
   ],
   "source": [
    "dd = connect('asdf.db')\n",
    "\n",
    "for atoms in dd.select(''):\n",
    "    a = atoms.toatoms()\n",
    "    print(a.get_potential_energy())"
   ]
  },
  {
   "cell_type": "code",
   "execution_count": 2,
   "metadata": {},
   "outputs": [],
   "source": [
    "db = connect(\"/Users/Michael_wang/Documents/venkat/artemis-PD/PD/LiMg/Mg-gs.db\")\n",
    "for row in db.select(''):\n",
    "    atoms = row.toatoms()\n",
    "    atoms.numbers[:] = 3\n",
    "    newdb = connect(\"/Users/Michael_wang/Documents/venkat/artemis-PD/PD/LiMg/hcp-Li-gs.db\")\n",
    "    newdb.write(atoms=atoms)"
   ]
  },
  {
   "cell_type": "code",
   "execution_count": null,
   "metadata": {},
   "outputs": [],
   "source": []
  }
 ],
 "metadata": {
  "kernelspec": {
   "display_name": "casm",
   "language": "python",
   "name": "python3"
  },
  "language_info": {
   "codemirror_mode": {
    "name": "ipython",
    "version": 3
   },
   "file_extension": ".py",
   "mimetype": "text/x-python",
   "name": "python",
   "nbconvert_exporter": "python",
   "pygments_lexer": "ipython3",
   "version": "3.9.13"
  }
 },
 "nbformat": 4,
 "nbformat_minor": 2
}
