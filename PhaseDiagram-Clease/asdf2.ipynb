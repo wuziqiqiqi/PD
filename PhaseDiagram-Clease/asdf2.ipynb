{
 "cells": [
  {
   "cell_type": "code",
   "execution_count": 4,
   "metadata": {},
   "outputs": [],
   "source": [
    "from ovito.io import import_file, export_file\n",
    "from ovito.modifiers import CoordinationAnalysisModifier, TimeAveragingModifier\n",
    "from matplotlib import pyplot as plt\n",
    "import numpy"
   ]
  },
  {
   "cell_type": "code",
   "execution_count": 8,
   "metadata": {},
   "outputs": [
    {
     "name": "stdout",
     "output_type": "stream",
     "text": [
      "Number of MD frames: 1095\n"
     ]
    }
   ],
   "source": [
    "# Load a simulation trajectory consisting of several frames:\n",
    "pipeline = import_file(\"/Users/Michael_wang/Documents/venkat/mint-PD/PhaseDiagram-Clease/train-stress.extxyz\")\n",
    "print(\"Number of MD frames:\", pipeline.source.num_frames)\n",
    "\n",
    "# Insert the RDF calculation modifier into the pipeline:\n",
    "pipeline.modifiers.append(CoordinationAnalysisModifier(cutoff = 5.0, number_of_bins = 200, partial=True))\n",
    "\n",
    "# Insert the time-averaging modifier into the pipeline, which accumulates\n",
    "# the instantaneous DataTable produced by the previous modifier and computes a mean histogram.\n",
    "pipeline.modifiers.append(TimeAveragingModifier(operate_on='table:coordination-rdf'))\n",
    "\n",
    "# Data export method 1: Convert to NumPy array and write data to a text file:\n",
    "total_rdf = pipeline.compute().tables['coordination-rdf[average]'].xy()\n",
    "# numpy.savetxt(\"rdf.txt\", total_rdf)\n",
    "\n",
    "# # Data export method 2: Use OVITO's own export function for DataTable objects:\n",
    "# export_file(pipeline, \"rdf.txt\", \"txt/table\", key=\"coordination-rdf[average]\")"
   ]
  },
  {
   "cell_type": "code",
   "execution_count": 6,
   "metadata": {},
   "outputs": [
    {
     "data": {
      "text/plain": [
       "(200, 2)"
      ]
     },
     "execution_count": 6,
     "metadata": {},
     "output_type": "execute_result"
    }
   ],
   "source": [
    "total_rdf.shape"
   ]
  },
  {
   "cell_type": "code",
   "execution_count": 16,
   "metadata": {},
   "outputs": [
    {
     "data": {
      "text/plain": [
       "[<matplotlib.lines.Line2D at 0x7facf6c1e130>]"
      ]
     },
     "execution_count": 16,
     "metadata": {},
     "output_type": "execute_result"
    },
    {
     "data": {
      "image/png": "[encoded data removed]",
      "text/plain": [
       "<Figure size 432x288 with 1 Axes>"
      ]
     },
     "metadata": {
      "needs_background": "light"
     },
     "output_type": "display_data"
    }
   ],
   "source": [
    "plt.plot(total_rdf[:, 6])"
   ]
  },
  {
   "cell_type": "code",
   "execution_count": 17,
   "metadata": {},
   "outputs": [
    {
     "ename": "AttributeError",
     "evalue": "'numpy.ndarray' object has no attribute 'y'",
     "output_type": "error",
     "traceback": [
      "\u001b[0;31m---------------------------------------------------------------------------\u001b[0m",
      "\u001b[0;31mAttributeError\u001b[0m                            Traceback (most recent call last)",
      "Input \u001b[0;32mIn [17]\u001b[0m, in \u001b[0;36m<cell line: 1>\u001b[0;34m()\u001b[0m\n\u001b[0;32m----> 1\u001b[0m rdf_names \u001b[38;5;241m=\u001b[39m \u001b[43mtotal_rdf\u001b[49m\u001b[38;5;241;43m.\u001b[39;49m\u001b[43my\u001b[49m\u001b[38;5;241m.\u001b[39mcomponent_names\n\u001b[1;32m      3\u001b[0m \u001b[38;5;66;03m# Print a list of partial g(r) functions.\u001b[39;00m\n\u001b[1;32m      4\u001b[0m \u001b[38;5;28;01mfor\u001b[39;00m component, name \u001b[38;5;129;01min\u001b[39;00m \u001b[38;5;28menumerate\u001b[39m(rdf_names):\n",
      "\u001b[0;31mAttributeError\u001b[0m: 'numpy.ndarray' object has no attribute 'y'"
     ]
    },
    {
     "ename": "",
     "evalue": "",
     "output_type": "error",
     "traceback": [
      "\u001b[1;31mThe Kernel crashed while executing code in the current cell or a previous cell. \n",
      "\u001b[1;31mPlease review the code in the cell(s) to identify a possible cause of the failure. \n",
      "\u001b[1;31mClick <a href='https://aka.ms/vscodeJupyterKernelCrash'>here</a> for more info. \n",
      "\u001b[1;31mView Jupyter <a href='command:jupyter.viewOutput'>log</a> for further details."
     ]
    }
   ],
   "source": [
    "rdf_names = total_rdf.y.component_names\n",
    "\n",
    "# Print a list of partial g(r) functions.\n",
    "for component, name in enumerate(rdf_names):\n",
    "    print(\"g(r) for pair-wise type combination %s:\" % name)\n",
    "    print(total_rdf.y[:,component])"
   ]
  },
  {
   "cell_type": "code",
   "execution_count": null,
   "metadata": {},
   "outputs": [],
   "source": []
  }
 ],
 "metadata": {
  "kernelspec": {
   "display_name": "calphy-test-env",
   "language": "python",
   "name": "python3"
  },
  "language_info": {
   "codemirror_mode": {
    "name": "ipython",
    "version": 3
   },
   "file_extension": ".py",
   "mimetype": "text/x-python",
   "name": "python",
   "nbconvert_exporter": "python",
   "pygments_lexer": "ipython3",
   "version": "3.8.13"
  }
 },
 "nbformat": 4,
 "nbformat_minor": 2
}
