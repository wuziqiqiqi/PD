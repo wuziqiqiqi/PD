{
 "cells": [
  {
   "cell_type": "code",
   "execution_count": 1,
   "metadata": {},
   "outputs": [],
   "source": [
    "import numpy as np\n",
    "import yaml\n",
    "import os\n",
    "import shutil\n",
    "import glob\n",
    "from ase.db import connect\n",
    "from ase.io import read, write\n",
    "from ase.visualize import view\n",
    "from ase.calculators.eam import EAM\n",
    "from ase.build import bulk\n",
    "from ase import Atoms\n",
    "from ase.geometry import cell_to_cellpar, cellpar_to_cell\n",
    "import pandas as pd\n",
    "\n",
    "from scipy import interpolate\n",
    "\n",
    "# from gpaw import GPAW\n",
    "from ase.calculators.emt import EMT\n",
    "import json\n",
    "\n",
    "import matplotlib.pyplot as plt\n",
    "\n",
    "from pymatgen.ext.matproj import MPRester\n",
    "from pymatgen.io.ase import AseAtomsAdaptor\n",
    "from pymatgen.symmetry.analyzer import SpacegroupAnalyzer\n",
    "\n",
    "from ase.io.lammpsdata import write_lammps_data, read_lammps_data\n",
    "\n",
    "mpr = MPRester(\"X95IHGgtNwjR1xILRRk9NImcElr5JlTH\")\n"
   ]
  },
  {
   "cell_type": "code",
   "execution_count": 2,
   "metadata": {},
   "outputs": [
    {
     "ename": "FileNotFoundError",
     "evalue": "[Errno 2] No such file or directory: '/Users/Michael_wang/Downloads/xyz-npt-cp.dump'",
     "output_type": "error",
     "traceback": [
      "\u001b[0;31m---------------------------------------------------------------------------\u001b[0m",
      "\u001b[0;31mFileNotFoundError\u001b[0m                         Traceback (most recent call last)",
      "Cell \u001b[0;32mIn [2], line 1\u001b[0m\n\u001b[0;32m----> 1\u001b[0m tmp \u001b[38;5;241m=\u001b[39m \u001b[43mread\u001b[49m\u001b[43m(\u001b[49m\u001b[38;5;124;43m\"\u001b[39;49m\u001b[38;5;124;43m/Users/Michael_wang/Downloads/xyz-npt-cp.dump\u001b[39;49m\u001b[38;5;124;43m\"\u001b[39;49m\u001b[43m,\u001b[49m\u001b[43m \u001b[49m\u001b[43mindex\u001b[49m\u001b[38;5;241;43m=\u001b[39;49m\u001b[38;5;124;43m'\u001b[39;49m\u001b[38;5;124;43m:\u001b[39;49m\u001b[38;5;124;43m'\u001b[39;49m\u001b[43m)\u001b[49m\n\u001b[1;32m      2\u001b[0m \u001b[38;5;28;01mfor\u001b[39;00m i \u001b[38;5;129;01min\u001b[39;00m \u001b[38;5;28mrange\u001b[39m(\u001b[38;5;28mlen\u001b[39m(tmp)):\n\u001b[1;32m      3\u001b[0m     \u001b[38;5;28;01mdel\u001b[39;00m tmp[i][:\u001b[38;5;241m480\u001b[39m]\n",
      "File \u001b[0;32m~/opt/anaconda3/envs/casm/lib/python3.9/site-packages/ase/io/formats.py:793\u001b[0m, in \u001b[0;36mread\u001b[0;34m(filename, index, format, parallel, do_not_split_by_at_sign, **kwargs)\u001b[0m\n\u001b[1;32m    791\u001b[0m \u001b[38;5;28;01mif\u001b[39;00m index \u001b[38;5;129;01mis\u001b[39;00m \u001b[38;5;28;01mNone\u001b[39;00m:\n\u001b[1;32m    792\u001b[0m     index \u001b[38;5;241m=\u001b[39m \u001b[38;5;241m-\u001b[39m\u001b[38;5;241m1\u001b[39m\n\u001b[0;32m--> 793\u001b[0m \u001b[38;5;28mformat\u001b[39m \u001b[38;5;241m=\u001b[39m \u001b[38;5;28mformat\u001b[39m \u001b[38;5;129;01mor\u001b[39;00m \u001b[43mfiletype\u001b[49m\u001b[43m(\u001b[49m\u001b[43mfilename\u001b[49m\u001b[43m,\u001b[49m\u001b[43m \u001b[49m\u001b[43mread\u001b[49m\u001b[38;5;241;43m=\u001b[39;49m\u001b[38;5;28;43misinstance\u001b[39;49m\u001b[43m(\u001b[49m\u001b[43mfilename\u001b[49m\u001b[43m,\u001b[49m\u001b[43m \u001b[49m\u001b[38;5;28;43mstr\u001b[39;49m\u001b[43m)\u001b[49m\u001b[43m)\u001b[49m\n\u001b[1;32m    795\u001b[0m io \u001b[38;5;241m=\u001b[39m get_ioformat(\u001b[38;5;28mformat\u001b[39m)\n\u001b[1;32m    796\u001b[0m \u001b[38;5;28;01mif\u001b[39;00m \u001b[38;5;28misinstance\u001b[39m(index, (\u001b[38;5;28mslice\u001b[39m, \u001b[38;5;28mstr\u001b[39m)):\n",
      "File \u001b[0;32m~/opt/anaconda3/envs/casm/lib/python3.9/site-packages/ase/io/formats.py:965\u001b[0m, in \u001b[0;36mfiletype\u001b[0;34m(filename, read, guess)\u001b[0m\n\u001b[1;32m    962\u001b[0m     \u001b[38;5;28;01mreturn\u001b[39;00m ext\n\u001b[1;32m    964\u001b[0m \u001b[38;5;28;01mif\u001b[39;00m orig_filename \u001b[38;5;241m==\u001b[39m filename:\n\u001b[0;32m--> 965\u001b[0m     fd \u001b[38;5;241m=\u001b[39m \u001b[43mopen_with_compression\u001b[49m\u001b[43m(\u001b[49m\u001b[43mfilename\u001b[49m\u001b[43m,\u001b[49m\u001b[43m \u001b[49m\u001b[38;5;124;43m'\u001b[39;49m\u001b[38;5;124;43mrb\u001b[39;49m\u001b[38;5;124;43m'\u001b[39;49m\u001b[43m)\u001b[49m\n\u001b[1;32m    966\u001b[0m \u001b[38;5;28;01melse\u001b[39;00m:\n\u001b[1;32m    967\u001b[0m     fd \u001b[38;5;241m=\u001b[39m orig_filename  \u001b[38;5;66;03m# type: ignore[assignment]\u001b[39;00m\n",
      "File \u001b[0;32m~/opt/anaconda3/envs/casm/lib/python3.9/site-packages/ase/io/formats.py:597\u001b[0m, in \u001b[0;36mopen_with_compression\u001b[0;34m(filename, mode)\u001b[0m\n\u001b[1;32m    594\u001b[0m     \u001b[38;5;28;01mreturn\u001b[39;00m lzma\u001b[38;5;241m.\u001b[39mopen(filename, mode)\n\u001b[1;32m    595\u001b[0m \u001b[38;5;28;01melse\u001b[39;00m:\n\u001b[1;32m    596\u001b[0m     \u001b[38;5;66;03m# Either None or unknown string\u001b[39;00m\n\u001b[0;32m--> 597\u001b[0m     \u001b[38;5;28;01mreturn\u001b[39;00m \u001b[38;5;28;43mopen\u001b[39;49m\u001b[43m(\u001b[49m\u001b[43mfilename\u001b[49m\u001b[43m,\u001b[49m\u001b[43m \u001b[49m\u001b[43mmode\u001b[49m\u001b[43m)\u001b[49m\n",
      "\u001b[0;31mFileNotFoundError\u001b[0m: [Errno 2] No such file or directory: '/Users/Michael_wang/Downloads/xyz-npt-cp.dump'"
     ]
    }
   ],
   "source": [
    "tmp = read(\"/Users/Michael_wang/Downloads/xyz-npt-cp.dump\", index=':')\n",
    "for i in range(len(tmp)):\n",
    "    del tmp[i][:480]\n",
    "write(\"/Users/Michael_wang/Downloads/xyz-npt-cp-noLiCl.xyz\", tmp)"
   ]
  },
  {
   "cell_type": "code",
   "execution_count": 2,
   "metadata": {},
   "outputs": [
    {
     "data": {
      "application/vnd.jupyter.widget-view+json": {
       "model_id": "690f8365415549ac98dbe7baf48099a1",
       "version_major": 2,
       "version_minor": 0
      },
      "text/plain": [
       "Retrieving MaterialsDoc documents:   0%|          | 0/1 [00:00<?, ?it/s]"
      ]
     },
     "metadata": {},
     "output_type": "display_data"
    },
    {
     "data": {
      "application/vnd.jupyter.widget-view+json": {
       "model_id": "d18404ef0e284e1f99e793db8f2fb0af",
       "version_major": 2,
       "version_minor": 0
      },
      "text/plain": [
       "Retrieving MaterialsDoc documents:   0%|          | 0/1 [00:00<?, ?it/s]"
      ]
     },
     "metadata": {},
     "output_type": "display_data"
    },
    {
     "name": "stderr",
     "output_type": "stream",
     "text": [
      "mach_inject_bundle load_bundle_package: /Library/Application Support/MacEnhance/Plugins/AfloatX.bundle\n",
      "mach_inject_bundle load_bundle_package: /Library/Application Support/MacEnhance/Plugins/AfloatX.bundle\n"
     ]
    }
   ],
   "source": [
    "numOfX = 5\n",
    "initialTemp = \"300.0\"\n",
    "alloySystem = \"LiKCl-CHGNET\"\n",
    "potentialPath = \"/ocean/projects/cts180021p/wuziqi/clease/mint-PD/PhaseDiagram-Clease/Liquid/GAP_potential/gap_LiKCl.xml\"\n",
    "chgnetDriverPath = \"/ocean/projects/cts180021p/wuziqi/clease/lammps-ASC/potentials/CHGNET\"\n",
    "model_name = \"MPtrj-efsm\"\n",
    "multipicity = (16,4,8)\n",
    "\n",
    "end0StructureMPid = 'mp-22905'\n",
    "# end1StructureMPid = 'mp-22983'\n",
    "end1StructureMPid = 'mp-23193'\n",
    "\n",
    "\n",
    "structure = mpr.get_structure_by_material_id(end0StructureMPid)\n",
    "sg_analyzer = SpacegroupAnalyzer(structure)\n",
    "primitive_structure = sg_analyzer.get_conventional_standard_structure()\n",
    "ase_atoms0 = AseAtomsAdaptor.get_atoms(primitive_structure)\n",
    "cell0 = ase_atoms0.cell\n",
    "ase_atoms0.set_cell(cell0.cellpar()[:3]*2*2.55/cell0.cellpar()[0], scale_atoms=True)\n",
    "view(ase_atoms0)\n",
    "\n",
    "structure = mpr.get_structure_by_material_id(end1StructureMPid)\n",
    "sg_analyzer = SpacegroupAnalyzer(structure)\n",
    "primitive_structure = sg_analyzer.get_conventional_standard_structure()\n",
    "ase_atoms1 = AseAtomsAdaptor.get_atoms(primitive_structure)\n",
    "cell1 = ase_atoms1.cell\n",
    "ase_atoms1.set_cell(cell1.cellpar()[:3]*2*3.18/cell1.cellpar()[0], scale_atoms=True)\n",
    "view(ase_atoms1)\n",
    "\n",
    "scaledCell = np.linspace(cell0, cell1, 10001, endpoint=True)"
   ]
  },
  {
   "cell_type": "code",
   "execution_count": 44,
   "metadata": {},
   "outputs": [],
   "source": [
    "tmp = ase_atoms1.cell * [1,1,1]"
   ]
  },
  {
   "cell_type": "code",
   "execution_count": 45,
   "metadata": {},
   "outputs": [
    {
     "data": {
      "text/plain": [
       "array([[12.72,  0.  ,  0.  ],\n",
       "       [ 0.  , 19.08,  0.  ],\n",
       "       [ 0.  ,  0.  , 12.72]])"
      ]
     },
     "execution_count": 45,
     "metadata": {},
     "output_type": "execute_result"
    }
   ],
   "source": [
    "ase_atoms1.cell * [1,2,1] + tmp"
   ]
  },
  {
   "cell_type": "code",
   "execution_count": 46,
   "metadata": {},
   "outputs": [
    {
     "data": {
      "text/plain": [
       "array([[6.36, 0.  , 0.  ],\n",
       "       [0.  , 6.36, 0.  ],\n",
       "       [0.  , 0.  , 6.36]])"
      ]
     },
     "execution_count": 46,
     "metadata": {},
     "output_type": "execute_result"
    }
   ],
   "source": [
    "tmp"
   ]
  },
  {
   "cell_type": "code",
   "execution_count": 33,
   "metadata": {},
   "outputs": [
    {
     "name": "stdout",
     "output_type": "stream",
     "text": [
      "[[ 0.   0.   0. ]\n",
      " [ 0.  20.4  0. ]\n",
      " [ 0.   0.   5.1]]\n",
      "[[ 0.   0.   0. ]\n",
      " [ 0.  20.4  0. ]\n",
      " [ 0.   0.   5.1]]\n",
      "[[ 0.   0.   0. ]\n",
      " [ 0.  20.4  0. ]\n",
      " [ 0.   0.   5.1]]\n",
      "[[ 0.   0.   0. ]\n",
      " [ 0.  20.4  0. ]\n",
      " [ 0.   0.   5.1]]\n",
      "[[ 6.36  0.    0.  ]\n",
      " [ 0.   20.4   0.  ]\n",
      " [ 0.    0.    5.1 ]]\n",
      "[[ 6.36  0.    0.  ]\n",
      " [ 0.   20.4   0.  ]\n",
      " [ 0.    0.    5.1 ]]\n",
      "[[ 6.36  0.    0.  ]\n",
      " [ 0.   20.4   0.  ]\n",
      " [ 0.    0.    5.1 ]]\n",
      "[[ 6.36  0.    0.  ]\n",
      " [ 0.   20.4   0.  ]\n",
      " [ 0.    0.    5.1 ]]\n",
      "[[12.72  0.    0.  ]\n",
      " [ 0.   20.4   0.  ]\n",
      " [ 0.    0.    5.1 ]]\n",
      "[[12.72  0.    0.  ]\n",
      " [ 0.   20.4   0.  ]\n",
      " [ 0.    0.    5.1 ]]\n",
      "[[12.72  0.    0.  ]\n",
      " [ 0.   20.4   0.  ]\n",
      " [ 0.    0.    5.1 ]]\n",
      "[[12.72  0.    0.  ]\n",
      " [ 0.   20.4   0.  ]\n",
      " [ 0.    0.    5.1 ]]\n",
      "[[17.82  0.    0.  ]\n",
      " [ 0.   20.4   0.  ]\n",
      " [ 0.    0.    5.1 ]]\n",
      "[[17.82  0.    0.  ]\n",
      " [ 0.   20.4   0.  ]\n",
      " [ 0.    0.    5.1 ]]\n",
      "[[17.82  0.    0.  ]\n",
      " [ 0.   20.4   0.  ]\n",
      " [ 0.    0.    5.1 ]]\n",
      "[[17.82  0.    0.  ]\n",
      " [ 0.   20.4   0.  ]\n",
      " [ 0.    0.    5.1 ]]\n"
     ]
    },
    {
     "name": "stderr",
     "output_type": "stream",
     "text": [
      "/var/folders/k_/jq6m6ps14v59j7zn4tqygzjr0000gn/T/ipykernel_66896/1503352107.py:65: DeprecationWarning: `product` is deprecated as of NumPy 1.25.0, and will be removed in NumPy 2.0. Please use `prod` instead.\n",
      "  supercell *= (1,1,12)\n"
     ]
    },
    {
     "data": {
      "text/plain": [
       "<Popen: returncode: None args: ['/Users/Michael_wang/opt/anaconda3/envs/casm...>"
      ]
     },
     "execution_count": 33,
     "metadata": {},
     "output_type": "execute_result"
    },
    {
     "name": "stderr",
     "output_type": "stream",
     "text": [
      "mach_inject_bundle load_bundle_package: /Library/Application Support/MacEnhance/Plugins/AfloatX.bundle\n"
     ]
    }
   ],
   "source": [
    "# Define the supercell dimensions\n",
    "supercell_dims = (4, 4, 1)\n",
    "supercellCellSize = np.zeros((3,3))\n",
    "supercellCellSize = ase_atoms0.cell * [0,4,1]\n",
    "\n",
    "origin = np.array([0.0,0.0,0.0])\n",
    "\n",
    "# Create a new Atoms object to store the supercell\n",
    "supercell = Atoms()\n",
    "\n",
    "NSpecies2Change = 11\n",
    "\n",
    "count = 0\n",
    "toBeAdded = np.zeros((3,3))\n",
    "\n",
    "# Loop over the supercell dimensions and append copies of the unit cell\n",
    "for i in range(supercell_dims[0]):\n",
    "    for j in range(supercell_dims[1]):\n",
    "        # Create a copy of the unit cell\n",
    "        cell_copy = ase_atoms0.copy()\n",
    "        \n",
    "        # Decide whether change species \n",
    "        if count < NSpecies2Change:\n",
    "            cell_copy.numbers[cell_copy.numbers == 3] = 19\n",
    "            count += 1\n",
    "\n",
    "            if (i + 1) * supercell_dims[1] <= NSpecies2Change:\n",
    "                cellCopyScaledCellPar = list(cell_copy.cell.cellpar()[:3])\n",
    "                cellCopyScaledCellPar[0] = 2*3.18\n",
    "                cell_copy.set_cell(cellCopyScaledCellPar, scale_atoms=True)\n",
    "        \n",
    "        toBeAdded[0] = (cell_copy.cell*[1,1,1])[0]\n",
    "\n",
    "        cell_copy.translate(origin)\n",
    "        origin += cell_copy.cell.dot([0,1,0])\n",
    "        \n",
    "        # Append the translated copy to the supercell\n",
    "        supercell.extend(cell_copy)\n",
    "        \n",
    "    supercellCellSize += toBeAdded\n",
    "    origin[1] = 0\n",
    "    origin += cell_copy.cell.dot([1,0,0])\n",
    "    supercell.set_cell(supercellCellSize)\n",
    "\n",
    "# Wrap the atoms inside the supercell\n",
    "supercell.center()\n",
    "supercell *= (1,1,12)\n",
    "view(supercell)"
   ]
  },
  {
   "cell_type": "code",
   "execution_count": 17,
   "metadata": {},
   "outputs": [
    {
     "data": {
      "text/plain": [
       "array([0. , 5.1, 0. ])"
      ]
     },
     "execution_count": 17,
     "metadata": {},
     "output_type": "execute_result"
    }
   ],
   "source": [
    "cell_copy.cell.dot([0,1,0])"
   ]
  },
  {
   "cell_type": "code",
   "execution_count": null,
   "metadata": {},
   "outputs": [],
   "source": [
    "tmpAtoms = (ase_atoms0*multipicity).copy()\n",
    "tmpAtoms.set_cell(scaledCell[idx], scale_atoms=True)\n",
    "KIdx = np.arange(len(tmpAtoms.numbers))[tmpAtoms.numbers == 3]\n",
    "NtoConvert = int(len(KIdx)*x)"
   ]
  },
  {
   "cell_type": "code",
   "execution_count": 4,
   "metadata": {},
   "outputs": [
    {
     "data": {
      "application/vnd.jupyter.widget-view+json": {
       "model_id": "fa2c78b8932d4b658abe4aa3fa5a1b78",
       "version_major": 2,
       "version_minor": 0
      },
      "text/plain": [
       "Retrieving MaterialsDoc documents:   0%|          | 0/1 [00:00<?, ?it/s]"
      ]
     },
     "metadata": {},
     "output_type": "display_data"
    },
    {
     "data": {
      "application/vnd.jupyter.widget-view+json": {
       "model_id": "ed4f8548525446498dc215c55d6f685d",
       "version_major": 2,
       "version_minor": 0
      },
      "text/plain": [
       "Retrieving MaterialsDoc documents:   0%|          | 0/1 [00:00<?, ?it/s]"
      ]
     },
     "metadata": {},
     "output_type": "display_data"
    }
   ],
   "source": [
    "def distance_matrix(points):\n",
    "    # Convert the list of points to a NumPy array\n",
    "    points_array = np.array(points)\n",
    "    \n",
    "    # Compute the squared Euclidean distances using broadcasting\n",
    "    diff = points_array[:, np.newaxis, :] - points_array[np.newaxis, :, :]\n",
    "    dist_matrix = np.sqrt(np.sum(diff**2, axis=-1))\n",
    "    \n",
    "    return dist_matrix\n",
    "\n",
    "numOfX = 5\n",
    "initialTemp = \"300.0\"\n",
    "alloySystem = \"LiKCl-CHGNET\"\n",
    "potentialPath = \"/ocean/projects/cts180021p/wuziqi/clease/mint-PD/PhaseDiagram-Clease/Liquid/GAP_potential/gap_LiKCl.xml\"\n",
    "chgnetDriverPath = \"/ocean/projects/cts180021p/wuziqi/clease/lammps-ASC/potentials/CHGNET\"\n",
    "model_name = \"MPtrj-efsm\"\n",
    "multipicity = (4,4,12)\n",
    "\n",
    "end0StructureMPid = 'mp-22905' #LiCl\n",
    "end1StructureMPid = 'mp-22983' #LiAlCl₄\n",
    "# end1StructureMPid = 'mp-23193' #KCl\n",
    "\n",
    "structure0 = mpr.get_structure_by_material_id(end0StructureMPid)\n",
    "structure1 = mpr.get_structure_by_material_id(end1StructureMPid)"
   ]
  },
  {
   "cell_type": "code",
   "execution_count": 10,
   "metadata": {},
   "outputs": [
    {
     "name": "stdout",
     "output_type": "stream",
     "text": [
      "Cell([[30.50546806859715, 0.0, 1.8679211913349644e-15], [-6.226403971116548e-16, 10.16848935619905, 6.226403971116548e-16], [0.0, 0.0, 25.421223390497623]])\n",
      "Cell([[0.0, 27.831099425276054, 0.0], [26.23641824, 0.0, 0.0], [0.0, -1.2709987275775174, -25.669688623508403]])\n"
     ]
    },
    {
     "name": "stderr",
     "output_type": "stream",
     "text": [
      "/var/folders/k_/jq6m6ps14v59j7zn4tqygzjr0000gn/T/ipykernel_56442/2077918642.py:4: DeprecationWarning: `product` is deprecated as of NumPy 1.25.0, and will be removed in NumPy 2.0. Please use `prod` instead.\n",
      "  ase_atoms0 *= (6,2,5)\n",
      "/var/folders/k_/jq6m6ps14v59j7zn4tqygzjr0000gn/T/ipykernel_56442/2077918642.py:13: DeprecationWarning: `product` is deprecated as of NumPy 1.25.0, and will be removed in NumPy 2.0. Please use `prod` instead.\n",
      "  ase_atoms1 *= (4,4,2)\n"
     ]
    },
    {
     "data": {
      "text/plain": [
       "<Popen: returncode: None args: ['/Users/Michael_wang/opt/anaconda3/envs/casm...>"
      ]
     },
     "execution_count": 10,
     "metadata": {},
     "output_type": "execute_result"
    },
    {
     "name": "stderr",
     "output_type": "stream",
     "text": [
      "mach_inject_bundle load_bundle_package: /Library/Application Support/MacEnhance/Plugins/AfloatX.bundle\n"
     ]
    }
   ],
   "source": [
    "sg_analyzer = SpacegroupAnalyzer(structure0)\n",
    "primitive_structure = sg_analyzer.get_conventional_standard_structure()\n",
    "ase_atoms0 = AseAtomsAdaptor.get_atoms(primitive_structure)\n",
    "ase_atoms0 *= (6,2,5)\n",
    "cell0 = ase_atoms0.cell\n",
    "# write(\"LiCl.pdb\", ase_atoms0)\n",
    "print(cell0)\n",
    "view(ase_atoms0)\n",
    "\n",
    "sg_analyzer = SpacegroupAnalyzer(structure1)\n",
    "primitive_structure = sg_analyzer.get_conventional_standard_structure()\n",
    "ase_atoms1 = AseAtomsAdaptor.get_atoms(primitive_structure)\n",
    "ase_atoms1 *= (4,4,2)\n",
    "cell1 = ase_atoms1.cell\n",
    "tmpCharge = ase_atoms1.numbers.copy()\n",
    "tmpCharge[tmpCharge == 3] = 1\n",
    "tmpCharge[tmpCharge == 17] = -1\n",
    "tmpCharge[tmpCharge == 13] = 3\n",
    "ase_atoms1.set_initial_charges(tmpCharge)\n",
    "# write(\"LiAlCl.pdb\", ase_atoms1)\n",
    "print(cell1)\n",
    "# write_lammps_data(\"LiAlCl4.data\", ase_atoms1, atom_style='full')\n",
    "view(ase_atoms1)"
   ]
  },
  {
   "cell_type": "code",
   "execution_count": 12,
   "metadata": {},
   "outputs": [
    {
     "data": {
      "text/plain": [
       "array([[1. , 1. , 1. ],\n",
       "       [1. , 2. , 1.5]])"
      ]
     },
     "execution_count": 12,
     "metadata": {},
     "output_type": "execute_result"
    }
   ],
   "source": [
    "a = np.array([[1,1,1], [2,2,2], [3,3,3], [1,2,1.5]])\n",
    "b = [2.5,2.5,1.6]\n",
    "a[np.logical_and(np.logical_and(a[:, 0] < b[0], a[:, 1] < b[1]), a[:, 2] < b[2])]\n"
   ]
  },
  {
   "cell_type": "code",
   "execution_count": 11,
   "metadata": {},
   "outputs": [
    {
     "name": "stdout",
     "output_type": "stream",
     "text": [
      "[30.50546807 10.16848936 25.42122339 90.         90.         90.        ]\n",
      "[27.83109943 26.23641824 25.70113522 90.         92.83460546 90.        ]\n",
      "[[30.50546807  0.          0.        ]\n",
      " [ 0.         10.16848936  0.        ]\n",
      " [ 0.          0.         25.42122339]]\n",
      "[[27.83109943  0.          0.        ]\n",
      " [ 0.         26.23641824  0.        ]\n",
      " [-1.27099873  0.         25.66968862]]\n"
     ]
    }
   ],
   "source": [
    "# Get the cell lengths and angles of each atoms object\n",
    "cellpar1 = ase_atoms0.cell.cellpar()\n",
    "cellpar2 = ase_atoms1.cell.cellpar()\n",
    "print(f\"{cellpar1}\\n{cellpar2}\")\n",
    "# Convert cell lengths and angles to cell vectors\n",
    "cell1 = cellpar_to_cell(cellpar1)\n",
    "cell2 = cellpar_to_cell(cellpar2)\n",
    "print(f\"{cell1}\\n{cell2}\")"
   ]
  },
  {
   "cell_type": "code",
   "execution_count": 25,
   "metadata": {},
   "outputs": [
    {
     "data": {
      "text/plain": [
       "<Popen: returncode: None args: ['/Users/Michael_wang/opt/anaconda3/envs/casm...>"
      ]
     },
     "execution_count": 25,
     "metadata": {},
     "output_type": "execute_result"
    },
    {
     "name": "stderr",
     "output_type": "stream",
     "text": [
      "mach_inject_bundle load_bundle_package: /Library/Application Support/MacEnhance/Plugins/AfloatX.bundle\n"
     ]
    }
   ],
   "source": [
    "# Get the positions of all atoms\n",
    "positions = ase_atoms1.get_positions()\n",
    "\n",
    "# Calculate the minimum and maximum coordinates along each axis\n",
    "min_coords = np.min(positions, axis=0)\n",
    "max_coords = np.max(positions, axis=0)\n",
    "\n",
    "# Calculate the dimensions of the bounding box\n",
    "dimensions = max_coords - min_coords\n",
    "\n",
    "# Create a new orthogonal cell with the bounding box dimensions\n",
    "new_cell = np.diag(dimensions)\n",
    "\n",
    "# Create a new Atoms object with the orthogonal cell\n",
    "new_atoms = Atoms(positions=positions, numbers=ase_atoms1.numbers, cell=new_cell, pbc=True)\n",
    "\n",
    "# Wrap the atoms inside the new cell\n",
    "new_atoms.center()\n",
    "view(new_atoms)"
   ]
  },
  {
   "cell_type": "code",
   "execution_count": 9,
   "metadata": {},
   "outputs": [
    {
     "data": {
      "text/plain": [
       "array([25.9464178 , 27.67579969, 24.45939515, 90.        , 90.        ,\n",
       "       90.        ])"
      ]
     },
     "execution_count": 9,
     "metadata": {},
     "output_type": "execute_result"
    }
   ],
   "source": [
    "new_atoms.cell.cellpar()"
   ]
  },
  {
   "cell_type": "code",
   "execution_count": 27,
   "metadata": {},
   "outputs": [
    {
     "name": "stdout",
     "output_type": "stream",
     "text": [
      "[30.50546807 10.16848936 25.42122339 90.         90.         90.        ]\n",
      "[25.9464178  27.67579969 24.45939515 90.         90.         90.        ]\n"
     ]
    },
    {
     "data": {
      "text/plain": [
       "<Popen: returncode: None args: ['/Users/Michael_wang/opt/anaconda3/envs/casm...>"
      ]
     },
     "execution_count": 27,
     "metadata": {},
     "output_type": "execute_result"
    },
    {
     "name": "stderr",
     "output_type": "stream",
     "text": [
      "mach_inject_bundle load_bundle_package: /Library/Application Support/MacEnhance/Plugins/AfloatX.bundle\n"
     ]
    }
   ],
   "source": [
    "# Define the target box size\n",
    "box_size = (30.75, 40, 27)\n",
    "\n",
    "# Get the dimensions of each atoms object\n",
    "dims1 = ase_atoms0.cell.cellpar()\n",
    "dims2 = new_atoms.cell.cellpar()\n",
    "print(dims1)\n",
    "print(dims2)\n",
    "\n",
    "# Calculate the separation distance along each axis\n",
    "sep_x = box_size[0] - max(dims1[0], dims2[0])\n",
    "sep_y = box_size[1] - (dims1[1] + dims2[1])\n",
    "sep_z = box_size[2] - max(dims1[2], dims2[2])\n",
    "\n",
    "# Create a new Atoms object with the target box size\n",
    "combined_atoms = Atoms(cell=box_size, pbc=True)\n",
    "\n",
    "# Add the first atoms object to the new Atoms object\n",
    "combined_atoms.extend(ase_atoms0)\n",
    "\n",
    "# Translate the second atoms object to be face to face and separated\n",
    "translation = (sep_x/2 + 1.25, dims1[1] + sep_y/2 - 1.25, sep_z/2 - 1.25)\n",
    "tmp = new_atoms.copy()\n",
    "tmp.translate(translation)\n",
    "\n",
    "# Add the second atoms object to the new Atoms object\n",
    "combined_atoms.extend(tmp)\n",
    "\n",
    "# Center the atoms in the box\n",
    "combined_atoms.center()\n",
    "write(\"combined.pdb\", combined_atoms)\n",
    "view(combined_atoms)"
   ]
  },
  {
   "cell_type": "code",
   "execution_count": null,
   "metadata": {},
   "outputs": [],
   "source": [
    "tmp = read(\"/Users/Michael_wang/Documents/venkat/packmol-20.14.3/LiClAl/Li-Cl-Al.pdb\")\n"
   ]
  },
  {
   "cell_type": "code",
   "execution_count": 135,
   "metadata": {},
   "outputs": [
    {
     "name": "stdout",
     "output_type": "stream",
     "text": [
      "xLiAlCl = 0.35\n",
      "rhoLiCl = 0.06087103406190888, rhoLiAlCl = 0.040973749697765245\n",
      "averge rho = 0.05390698453445861, totalN = 2294.8203316319027\n",
      "nLiAlCl = 236, nLiCl = 439\n",
      "free nLiAlCl = 108.0, free nLiCl = 199.0\n",
      "nLi = 307.0, nCl = 631.0, nAl = 108.0, actual total N = 1046.0\n"
     ]
    }
   ],
   "source": [
    "V = 43*33*30\n",
    "xLiAlCl = 0.35\n",
    "\n",
    "# doesn't have to change, this is just to calculate the density\n",
    "vLiCl = 6571.27\n",
    "nLiCl = 400\n",
    "vLiAlCl = 4685.927\n",
    "nLiAlCl = 192\n",
    "\n",
    "# number of atoms in the supercell for each crystal structure\n",
    "NinLiClCrystal = 480\n",
    "NinLiAlClCrystal = 768\n",
    "print(f\"xLiAlCl = {xLiAlCl}\")\n",
    "\n",
    "rhoLiCl = nLiCl / vLiCl\n",
    "rhoLiAlCl = nLiAlCl / vLiAlCl\n",
    "\n",
    "print(f\"rhoLiCl = {rhoLiCl}, rhoLiAlCl = {rhoLiAlCl}\")\n",
    "\n",
    "rhoAvg = xLiAlCl*rhoLiAlCl + (1-xLiAlCl)*rhoLiCl\n",
    "totalN = rhoAvg * V\n",
    "\n",
    "print(f\"averge rho = {rhoAvg}, totalN = {totalN}\")\n",
    "\n",
    "nLiAlCl = int(totalN / (6 + (1-xLiAlCl) * 2 / xLiAlCl))\n",
    "nLiCl = int((totalN - 6*nLiAlCl)/2)\n",
    "\n",
    "print(f\"nLiAlCl = {nLiAlCl}, nLiCl = {nLiCl}\")\n",
    "\n",
    "nLiAlCl = nLiAlCl - NinLiAlClCrystal/6\n",
    "nLiCl = nLiCl - NinLiClCrystal/2\n",
    "\n",
    "print(f\"free nLiAlCl = {nLiAlCl}, free nLiCl = {nLiCl}\")\n",
    "\n",
    "nLi = nLiCl + nLiAlCl\n",
    "nCl = nLiCl + nLiAlCl * 4\n",
    "nAl = nLiAlCl\n",
    "\n",
    "print(f\"nLi = {nLi}, nCl = {nCl}, nAl = {nAl}, actual total N = {nLi + nCl + nAl}\")\n"
   ]
  },
  {
   "cell_type": "code",
   "execution_count": 30,
   "metadata": {},
   "outputs": [],
   "source": [
    "# atoms = read(\"/Users/Michael_wang/Documents/venkat/packmol-20.14.3/LiClAl/Li-Cl-Al.pdb\")\n",
    "# atoms.set_cell(box_size)\n",
    "tmpCharge = supercell.numbers.copy()\n",
    "tmpCharge[tmpCharge == 3] = 1\n",
    "tmpCharge[tmpCharge == 17] = -1\n",
    "tmpCharge[tmpCharge == 19] = 1\n",
    "supercell.set_initial_charges(tmpCharge)\n",
    "write_lammps_data(\"tmp.data\", atoms=supercell, atom_style='full')"
   ]
  },
  {
   "cell_type": "code",
   "execution_count": 47,
   "metadata": {},
   "outputs": [
    {
     "name": "stdout",
     "output_type": "stream",
     "text": [
      "/Users/Michael_wang/Documents/venkat/mint-PD/PhaseDiagram-Clease/Liquid\n"
     ]
    }
   ],
   "source": [
    "!pwd"
   ]
  },
  {
   "cell_type": "markdown",
   "metadata": {},
   "source": [
    "x = 0.5\n",
    "rhoAvg = (rhoLiCl + 3*rhoLiAlCl)/4"
   ]
  },
  {
   "cell_type": "code",
   "execution_count": 27,
   "metadata": {},
   "outputs": [
    {
     "name": "stdout",
     "output_type": "stream",
     "text": [
      "1 2\n"
     ]
    }
   ],
   "source": [
    "totalN = 10\n",
    "xLiAlCl = 0.34\n",
    "nLiAlCl = int(totalN / (6 + (1-xLiAlCl) * 2 / xLiAlCl))\n",
    "nLiCl = int((totalN - 6*nLiAlCl)/2)\n",
    "print(nLiAlCl, nLiCl)"
   ]
  },
  {
   "cell_type": "markdown",
   "metadata": {},
   "source": [
    "LiAlCl4 = li + al + 4cl => 6\n",
    "LiCl = li + cl => 2\n",
    "2li + al + 5cl"
   ]
  },
  {
   "cell_type": "markdown",
   "metadata": {},
   "source": [
    "N, xLiAlCl4\n",
    "\n",
    "N = N_LiAlCl4 * 6 + N_LiCl * 2\n",
    "N_LiAlCl4/N_LiCl = xLiAlCl4/(1-xLiAlCl4)\n",
    "N_LiCl = N_LiAlCl4 * (1-xLiAlCl4) / xLiAlCl4\n",
    "\n",
    "N = N_LiAlCl4 * 6 + N_LiAlCl4 * (1-xLiAlCl4) * 2 / xLiAlCl4\n",
    "N = N_LiAlCl4 * (6 + (1-xLiAlCl4) * 2 / xLiAlCl4)\n",
    "N_LiAlCl4 = N / (6 + (1-xLiAlCl4) * 2 / xLiAlCl4)"
   ]
  },
  {
   "cell_type": "code",
   "execution_count": 4,
   "metadata": {},
   "outputs": [],
   "source": [
    "tmp = read(\"../train-stress.extxyz\", index=':')\n",
    "pass"
   ]
  },
  {
   "cell_type": "code",
   "execution_count": 10,
   "metadata": {},
   "outputs": [
    {
     "data": {
      "text/plain": [
       "<Popen: returncode: None args: ['/Users/Michael_wang/opt/anaconda3/envs/casm...>"
      ]
     },
     "execution_count": 10,
     "metadata": {},
     "output_type": "execute_result"
    },
    {
     "name": "stderr",
     "output_type": "stream",
     "text": [
      "mach_inject_bundle load_bundle_package: /Library/Application Support/MacEnhance/Plugins/AfloatX.bundle\n"
     ]
    }
   ],
   "source": [
    "tmp = bulk(\"Li\", 'bcc', 3.51, cubic=True)*(20,10,10)\n",
    "write_lammps_data(\"/Users/Michael_wang/Desktop/Li_bcc_4000_atoms_bulk.data\", tmp, atom_style='full')\n",
    "view(tmp)"
   ]
  },
  {
   "cell_type": "code",
   "execution_count": null,
   "metadata": {},
   "outputs": [],
   "source": [
    "a = \"abc\"\n",
    "a.count('a', )"
   ]
  },
  {
   "cell_type": "code",
   "execution_count": 6,
   "metadata": {},
   "outputs": [
    {
     "data": {
      "text/plain": [
       "<subprocess.Popen at 0x7fb4df269fd0>"
      ]
     },
     "execution_count": 6,
     "metadata": {},
     "output_type": "execute_result"
    },
    {
     "name": "stderr",
     "output_type": "stream",
     "text": [
      "mach_inject_bundle load_bundle_package: /Library/Application Support/MacEnhance/Plugins/AfloatX.bundle\n"
     ]
    }
   ],
   "source": [
    "atoms = bulk(name=\"LiCl\", crystalstructure=\"rocksalt\", a=5.08, b=5.08, c=5.08, alpha=90)\n",
    "# atoms *= (9,9,3)\n",
    "view(atoms)"
   ]
  },
  {
   "cell_type": "code",
   "execution_count": 9,
   "metadata": {},
   "outputs": [
    {
     "data": {
      "application/vnd.jupyter.widget-view+json": {
       "model_id": "28100de1edc44bcf95d208ed2406b28f",
       "version_major": 2,
       "version_minor": 0
      },
      "text/plain": [
       "Retrieving MaterialsDoc documents:   0%|          | 0/1 [00:00<?, ?it/s]"
      ]
     },
     "metadata": {},
     "output_type": "display_data"
    },
    {
     "data": {
      "text/plain": [
       "<subprocess.Popen at 0x7f92e7a16f70>"
      ]
     },
     "execution_count": 9,
     "metadata": {},
     "output_type": "execute_result"
    },
    {
     "name": "stderr",
     "output_type": "stream",
     "text": [
      "mach_inject_bundle load_bundle_package: /Library/Application Support/MacEnhance/Plugins/AfloatX.bundle\n"
     ]
    }
   ],
   "source": [
    "structure = mpr.get_structure_by_material_id('mp-22905')\n",
    "# structure = mpr.get_structure_by_material_id('mp-23193')\n",
    "sg_analyzer = SpacegroupAnalyzer(structure)\n",
    "primitive_structure = sg_analyzer.get_conventional_standard_structure()\n",
    "ase_atoms = AseAtomsAdaptor.get_atoms(primitive_structure)\n",
    "ase_atoms *= (3,3,6)\n",
    "view(ase_atoms)"
   ]
  },
  {
   "cell_type": "code",
   "execution_count": 6,
   "metadata": {},
   "outputs": [
    {
     "data": {
      "text/plain": [
       "<subprocess.Popen at 0x7f92e78d83d0>"
      ]
     },
     "execution_count": 6,
     "metadata": {},
     "output_type": "execute_result"
    },
    {
     "name": "stderr",
     "output_type": "stream",
     "text": [
      "mach_inject_bundle load_bundle_package: /Library/Application Support/MacEnhance/Plugins/AfloatX.bundle\n"
     ]
    }
   ],
   "source": [
    "import random\n",
    "\n",
    "KIdx = np.arange(len(ase_atoms.numbers))[ase_atoms.numbers == 3]\n",
    "toLi = random.sample(KIdx.tolist(), int(len(KIdx)*0.6))\n",
    "ase_atoms.numbers[toLi] = 19\n",
    "view(ase_atoms)"
   ]
  },
  {
   "cell_type": "code",
   "execution_count": 7,
   "metadata": {},
   "outputs": [],
   "source": [
    "\n",
    "write_lammps_data(file=\"Li50K50Cl-solid.data\", atoms=ase_atoms, atom_style=\"full\")\n"
   ]
  },
  {
   "cell_type": "code",
   "execution_count": 31,
   "metadata": {},
   "outputs": [],
   "source": [
    "frames = np.loadtxt(\"GAPlammps.out\", skiprows=36, max_rows=401)"
   ]
  },
  {
   "cell_type": "code",
   "execution_count": 34,
   "metadata": {},
   "outputs": [
    {
     "data": {
      "text/plain": [
       "[<matplotlib.lines.Line2D at 0x7fa65cc07df0>]"
      ]
     },
     "execution_count": 34,
     "metadata": {},
     "output_type": "execute_result"
    },
    {
     "data": {
      "image/png": "[encoded data removed]",
      "text/plain": [
       "<Figure size 640x480 with 1 Axes>"
      ]
     },
     "metadata": {},
     "output_type": "display_data"
    }
   ],
   "source": [
    "plt.plot(frames[:,4])"
   ]
  },
  {
   "cell_type": "code",
   "execution_count": 4,
   "metadata": {},
   "outputs": [],
   "source": [
    "from ase.io import read\n",
    "W = read('WL.traj')"
   ]
  },
  {
   "cell_type": "code",
   "execution_count": 5,
   "metadata": {},
   "outputs": [
    {
     "data": {
      "text/plain": [
       "array([0.      , 4.901919, 0.      ])"
      ]
     },
     "execution_count": 5,
     "metadata": {},
     "output_type": "execute_result"
    },
    {
     "name": "stderr",
     "output_type": "stream",
     "text": [
      "mach_inject_bundle load_bundle_package: /Library/Application Support/MacEnhance/Plugins/AfloatX.bundle\n"
     ]
    }
   ],
   "source": [
    "view(W)\n",
    "W.cell[1]"
   ]
  },
  {
   "cell_type": "code",
   "execution_count": 6,
   "metadata": {},
   "outputs": [],
   "source": [
    "from ase.build import fcc111\n",
    "slab = fcc111('Ni', size=[2, 4, 3], a=3.55, orthogonal=True)"
   ]
  },
  {
   "cell_type": "code",
   "execution_count": 40,
   "metadata": {},
   "outputs": [
    {
     "data": {
      "text/plain": [
       "<subprocess.Popen at 0x7fa65cc2ad30>"
      ]
     },
     "execution_count": 40,
     "metadata": {},
     "output_type": "execute_result"
    },
    {
     "name": "stderr",
     "output_type": "stream",
     "text": [
      "mach_inject_bundle load_bundle_package: /Library/Application Support/MacEnhance/Plugins/AfloatX.bundle\n"
     ]
    }
   ],
   "source": [
    "view(slab)"
   ]
  },
  {
   "cell_type": "code",
   "execution_count": 7,
   "metadata": {},
   "outputs": [],
   "source": [
    "W.cell = [W.cell[1, 1], W.cell[0, 0], W.cell[2,2]]"
   ]
  },
  {
   "cell_type": "code",
   "execution_count": 8,
   "metadata": {},
   "outputs": [],
   "source": [
    "W.rotate(90, 'z', center=(0, 0, 0))"
   ]
  },
  {
   "cell_type": "code",
   "execution_count": 71,
   "metadata": {},
   "outputs": [
    {
     "data": {
      "text/plain": [
       "<subprocess.Popen at 0x7fa65ccf6430>"
      ]
     },
     "execution_count": 71,
     "metadata": {},
     "output_type": "execute_result"
    },
    {
     "name": "stderr",
     "output_type": "stream",
     "text": [
      "mach_inject_bundle load_bundle_package: /Library/Application Support/MacEnhance/Plugins/AfloatX.bundle\n"
     ]
    }
   ],
   "source": [
    "view(W)"
   ]
  },
  {
   "cell_type": "code",
   "execution_count": 9,
   "metadata": {},
   "outputs": [],
   "source": [
    "W.wrap()\n"
   ]
  },
  {
   "cell_type": "code",
   "execution_count": 72,
   "metadata": {},
   "outputs": [
    {
     "data": {
      "text/plain": [
       "Cell([5.020458146424487, 8.695688586880282, 26.93236])"
      ]
     },
     "execution_count": 72,
     "metadata": {},
     "output_type": "execute_result"
    }
   ],
   "source": [
    "W.cell"
   ]
  },
  {
   "cell_type": "code",
   "execution_count": 73,
   "metadata": {},
   "outputs": [
    {
     "data": {
      "text/plain": [
       "Cell([5.020458146424487, 8.695688586880282, 0.0])"
      ]
     },
     "execution_count": 73,
     "metadata": {},
     "output_type": "execute_result"
    }
   ],
   "source": [
    "slab.cell"
   ]
  },
  {
   "cell_type": "code",
   "execution_count": 10,
   "metadata": {},
   "outputs": [],
   "source": [
    "W.set_cell([slab.cell[0], slab.cell[1], W.cell[2]], scale_atoms=True)"
   ]
  },
  {
   "cell_type": "code",
   "execution_count": 79,
   "metadata": {},
   "outputs": [
    {
     "data": {
      "text/plain": [
       "array([[0.07919195, 0.28474836, 6.88673518],\n",
       "       [1.05046136, 0.94053978, 6.83481037],\n",
       "       [4.12863347, 0.94087516, 6.83252698],\n",
       "       [2.5896971 , 1.9005956 , 6.98465318],\n",
       "       [2.59999465, 3.21580833, 6.85300181],\n",
       "       [2.59160125, 1.81860011, 8.08552648],\n",
       "       [2.6109209 , 4.63176471, 6.79460275],\n",
       "       [3.5829464 , 5.29392313, 6.84685463],\n",
       "       [1.63995642, 5.28034857, 6.85082201],\n",
       "       [0.07565183, 6.24939076, 6.69969482],\n",
       "       [0.07618416, 7.56421525, 6.82838996],\n",
       "       [0.08836217, 6.16435981, 5.59918691]])"
      ]
     },
     "execution_count": 79,
     "metadata": {},
     "output_type": "execute_result"
    }
   ],
   "source": [
    "W.positions"
   ]
  },
  {
   "cell_type": "code",
   "execution_count": 75,
   "metadata": {},
   "outputs": [
    {
     "data": {
      "text/plain": [
       "array([[1.25511454, 0.72464072, 0.        ],\n",
       "       [3.76534361, 0.72464072, 0.        ],\n",
       "       [0.        , 2.89856286, 0.        ],\n",
       "       [2.51022907, 2.89856286, 0.        ],\n",
       "       [1.25511454, 5.07248501, 0.        ],\n",
       "       [3.76534361, 5.07248501, 0.        ],\n",
       "       [0.        , 7.24640716, 0.        ],\n",
       "       [2.51022907, 7.24640716, 0.        ],\n",
       "       [0.        , 1.44928143, 2.04959346],\n",
       "       [2.51022907, 1.44928143, 2.04959346],\n",
       "       [1.25511454, 3.62320358, 2.04959346],\n",
       "       [3.76534361, 3.62320358, 2.04959346],\n",
       "       [0.        , 5.79712572, 2.04959346],\n",
       "       [2.51022907, 5.79712572, 2.04959346],\n",
       "       [1.25511454, 7.97104787, 2.04959346],\n",
       "       [3.76534361, 7.97104787, 2.04959346],\n",
       "       [0.        , 0.        , 4.09918691],\n",
       "       [2.51022907, 0.        , 4.09918691],\n",
       "       [1.25511454, 2.17392215, 4.09918691],\n",
       "       [3.76534361, 2.17392215, 4.09918691],\n",
       "       [0.        , 4.34784429, 4.09918691],\n",
       "       [2.51022907, 4.34784429, 4.09918691],\n",
       "       [1.25511454, 6.52176644, 4.09918691],\n",
       "       [3.76534361, 6.52176644, 4.09918691]])"
      ]
     },
     "execution_count": 75,
     "metadata": {},
     "output_type": "execute_result"
    }
   ],
   "source": [
    "slab.positions"
   ]
  },
  {
   "cell_type": "code",
   "execution_count": 11,
   "metadata": {},
   "outputs": [],
   "source": [
    "zmin = W.positions[:, 2].min()\n",
    "zmax = slab.positions[:, 2].max()"
   ]
  },
  {
   "cell_type": "code",
   "execution_count": 12,
   "metadata": {},
   "outputs": [
    {
     "data": {
      "text/plain": [
       "-8.079755888753654"
      ]
     },
     "execution_count": 12,
     "metadata": {},
     "output_type": "execute_result"
    }
   ],
   "source": [
    "zmax - zmin"
   ]
  },
  {
   "cell_type": "code",
   "execution_count": 13,
   "metadata": {},
   "outputs": [],
   "source": [
    "W.positions += (0, 0, zmax - zmin + 1.5)"
   ]
  },
  {
   "cell_type": "code",
   "execution_count": 15,
   "metadata": {},
   "outputs": [
    {
     "name": "stdout",
     "output_type": "stream",
     "text": [
      "asdf\n"
     ]
    }
   ],
   "source": [
    "print(\"asdf\")\n",
    "a = 1+1\n",
    "atoms = slab + W\n",
    "pass"
   ]
  },
  {
   "cell_type": "code",
   "execution_count": 16,
   "metadata": {},
   "outputs": [
    {
     "data": {
      "text/plain": [
       "<subprocess.Popen at 0x7fe1f570edf0>"
      ]
     },
     "execution_count": 16,
     "metadata": {},
     "output_type": "execute_result"
    },
    {
     "name": "stderr",
     "output_type": "stream",
     "text": [
      "mach_inject_bundle load_bundle_package: /Library/Application Support/MacEnhance/Plugins/AfloatX.bundle\n"
     ]
    }
   ],
   "source": [
    "view(atoms)"
   ]
  },
  {
   "cell_type": "code",
   "execution_count": 4,
   "metadata": {},
   "outputs": [
    {
     "data": {
      "text/plain": [
       "<subprocess.Popen at 0x7fe90ba89760>"
      ]
     },
     "execution_count": 4,
     "metadata": {},
     "output_type": "execute_result"
    },
    {
     "name": "stderr",
     "output_type": "stream",
     "text": [
      "mach_inject_bundle load_bundle_package: /Library/Application Support/MacEnhance/Plugins/AfloatX.bundle\n"
     ]
    }
   ],
   "source": [
    "from ase.io import extxyz\n",
    "partB = ase_read(\"LiCl-melted-300k-1bar.xyz\")\n",
    "view(partB)"
   ]
  },
  {
   "cell_type": "code",
   "execution_count": 5,
   "metadata": {},
   "outputs": [
    {
     "data": {
      "text/plain": [
       "Cell([14.9346358135, 14.9579177688, 36.0565238594])"
      ]
     },
     "execution_count": 5,
     "metadata": {},
     "output_type": "execute_result"
    }
   ],
   "source": [
    "partB.cell"
   ]
  },
  {
   "cell_type": "code",
   "execution_count": 6,
   "metadata": {},
   "outputs": [],
   "source": [
    "partA = ase_read(\"LiCl-solid-300k-1bar.xyz\")"
   ]
  },
  {
   "cell_type": "code",
   "execution_count": 7,
   "metadata": {},
   "outputs": [
    {
     "data": {
      "text/plain": [
       "<subprocess.Popen at 0x7fe8f380a2b0>"
      ]
     },
     "execution_count": 7,
     "metadata": {},
     "output_type": "execute_result"
    },
    {
     "name": "stderr",
     "output_type": "stream",
     "text": [
      "mach_inject_bundle load_bundle_package: /Library/Application Support/MacEnhance/Plugins/AfloatX.bundle\n"
     ]
    }
   ],
   "source": [
    "view(partA)"
   ]
  },
  {
   "cell_type": "code",
   "execution_count": 8,
   "metadata": {},
   "outputs": [
    {
     "data": {
      "text/plain": [
       "Cell([14.9346358135, 14.9579177688, 29.8824412932])"
      ]
     },
     "execution_count": 8,
     "metadata": {},
     "output_type": "execute_result"
    }
   ],
   "source": [
    "partA.cell"
   ]
  },
  {
   "cell_type": "code",
   "execution_count": 9,
   "metadata": {},
   "outputs": [
    {
     "data": {
      "text/plain": [
       "35.29874"
      ]
     },
     "execution_count": 9,
     "metadata": {},
     "output_type": "execute_result"
    }
   ],
   "source": [
    "zmin = partB.positions[:, 2].min()\n",
    "zmax = partA.positions[:, 2].max()\n",
    "delta = zmax - zmin + 2.54\n",
    "delta"
   ]
  },
  {
   "cell_type": "code",
   "execution_count": 10,
   "metadata": {},
   "outputs": [
    {
     "data": {
      "text/plain": [
       "36.0565238594"
      ]
     },
     "execution_count": 10,
     "metadata": {},
     "output_type": "execute_result"
    }
   ],
   "source": [
    "partB.cell[2,2]"
   ]
  },
  {
   "cell_type": "code",
   "execution_count": 11,
   "metadata": {},
   "outputs": [],
   "source": [
    "partB.positions += (0, 0, delta)"
   ]
  },
  {
   "cell_type": "code",
   "execution_count": 12,
   "metadata": {},
   "outputs": [],
   "source": [
    "finalAtoms = partA + partB"
   ]
  },
  {
   "cell_type": "code",
   "execution_count": 13,
   "metadata": {},
   "outputs": [
    {
     "data": {
      "text/plain": [
       "<subprocess.Popen at 0x7fe8f383a4f0>"
      ]
     },
     "execution_count": 13,
     "metadata": {},
     "output_type": "execute_result"
    },
    {
     "name": "stderr",
     "output_type": "stream",
     "text": [
      "mach_inject_bundle load_bundle_package: /Library/Application Support/MacEnhance/Plugins/AfloatX.bundle\n"
     ]
    }
   ],
   "source": [
    "view(finalAtoms)"
   ]
  },
  {
   "cell_type": "code",
   "execution_count": 14,
   "metadata": {},
   "outputs": [],
   "source": [
    "from ase.io.lammpsdata import write_lammps_data\n",
    "write_lammps_data(file=\"LiCl-mix.data\", atoms=finalAtoms, atom_style=\"full\")"
   ]
  },
  {
   "cell_type": "code",
   "execution_count": 15,
   "metadata": {},
   "outputs": [
    {
     "data": {
      "text/plain": [
       "68.52924"
      ]
     },
     "execution_count": 15,
     "metadata": {},
     "output_type": "execute_result"
    }
   ],
   "source": [
    "finalAtoms.positions[:, 2].max()"
   ]
  },
  {
   "cell_type": "code",
   "execution_count": 24,
   "metadata": {},
   "outputs": [],
   "source": [
    " with open(\"LiKCl/0.00x-LiKCl/123toABC.txt\", 'r') as f:\n",
    "    lmpAtomConversion = f.readline().split(' ')[1:]"
   ]
  },
  {
   "cell_type": "code",
   "execution_count": 25,
   "metadata": {},
   "outputs": [
    {
     "data": {
      "text/plain": [
       "['17', '3']"
      ]
     },
     "execution_count": 25,
     "metadata": {},
     "output_type": "execute_result"
    }
   ],
   "source": [
    "lmpAtomConversion"
   ]
  },
  {
   "cell_type": "code",
   "execution_count": 20,
   "metadata": {},
   "outputs": [
    {
     "data": {
      "text/plain": [
       "['', '17', '3']"
      ]
     },
     "execution_count": 20,
     "metadata": {},
     "output_type": "execute_result"
    }
   ],
   "source": [
    "lmpAtomConversion"
   ]
  },
  {
   "cell_type": "code",
   "execution_count": 5,
   "metadata": {},
   "outputs": [],
   "source": [
    "structureA = read_lammps_data(\"LiKCl/0.00x-LiKCl/structureA.data\")\n",
    "for idx, i in enumerate(lmpAtomConversion):\n",
    "    structureA.numbers[structureA.numbers == idx+1] = int(i)\n",
    "    \n",
    "structureB = read_lammps_data(\"LiKCl/0.00x-LiKCl/structureA.data\")\n",
    "for idx, i in enumerate(lmpAtomConversion):\n",
    "    structureB.numbers[structureB.numbers == idx+1] = int(i)"
   ]
  },
  {
   "cell_type": "code",
   "execution_count": 6,
   "metadata": {},
   "outputs": [],
   "source": [
    "zmin = structureB.positions[:, 2].min()\n",
    "zmax = structureA.positions[:, 2].max()\n",
    "delta = zmax - zmin + 2.5"
   ]
  },
  {
   "cell_type": "code",
   "execution_count": 7,
   "metadata": {},
   "outputs": [],
   "source": [
    "structureB.positions += (0, 0, delta)\n",
    "finalAtoms = structureA + structureB"
   ]
  },
  {
   "cell_type": "code",
   "execution_count": 8,
   "metadata": {},
   "outputs": [
    {
     "data": {
      "text/plain": [
       "<subprocess.Popen at 0x7feb488a5b50>"
      ]
     },
     "execution_count": 8,
     "metadata": {},
     "output_type": "execute_result"
    },
    {
     "name": "stderr",
     "output_type": "stream",
     "text": [
      "mach_inject_bundle load_bundle_package: /Library/Application Support/MacEnhance/Plugins/AfloatX.bundle\n"
     ]
    }
   ],
   "source": [
    "view(finalAtoms)"
   ]
  },
  {
   "cell_type": "code",
   "execution_count": 15,
   "metadata": {},
   "outputs": [],
   "source": [
    "dirs = os.listdir()"
   ]
  },
  {
   "cell_type": "code",
   "execution_count": 14,
   "metadata": {},
   "outputs": [
    {
     "data": {
      "text/plain": [
       "['asdf.txt',\n",
       " 'LiKCl-melted-300k-1bar.xyz',\n",
       " 'LiCl-mix.data',\n",
       " 'lastFrame.data',\n",
       " 'Li50K50Cl-solid.data',\n",
       " 'asdf.py',\n",
       " 'LiKCl',\n",
       " 'gap_LiKCl.xml',\n",
       " 'test',\n",
       " 'LiCl-melted-300k-1bar.xyz',\n",
       " 'likcl-solid-300k-1bar.dump',\n",
       " 'xyz-melt.dump',\n",
       " 'LiCl.in',\n",
       " 'likcl-solid-100k-1bar.data',\n",
       " 'GAPlammps.out',\n",
       " 'xyz-mix.dump',\n",
       " 'WL.py',\n",
       " 'run.sh',\n",
       " 'LiCl-solid-300k-1bar.data',\n",
       " 'step0.py',\n",
       " 'relaxed-solid.data',\n",
       " 'xyz-mix-900.dump',\n",
       " 'likcl-solid-100k-1bar.dump',\n",
       " 'LiCl-solid-300k-1bar.xyz',\n",
       " '~$liquid.docx',\n",
       " 'asdf.ipynb',\n",
       " 'liquid.docx',\n",
       " 'step1.py',\n",
       " 'xyz.dump',\n",
       " 'LiCl-solid.data',\n",
       " 'WL.traj',\n",
       " 'xyz-mix-600k.dump',\n",
       " '.vscode',\n",
       " 'xyz-fixed.dump',\n",
       " 'tete.ipynb']"
      ]
     },
     "execution_count": 14,
     "metadata": {},
     "output_type": "execute_result"
    }
   ],
   "source": [
    "list(filter(('.DS_Store').__ne__, dirs))"
   ]
  },
  {
   "cell_type": "code",
   "execution_count": 2,
   "metadata": {},
   "outputs": [
    {
     "data": {
      "text/plain": [
       "array([ 300. ,  337.5,  375. ,  412.5,  450. ,  487.5,  525. ,  562.5,\n",
       "        600. ,  637.5,  675. ,  712.5,  750. ,  787.5,  825. ,  862.5,\n",
       "        900. ,  937.5,  975. , 1012.5, 1050. , 1087.5, 1125. , 1162.5,\n",
       "       1200. ])"
      ]
     },
     "execution_count": 2,
     "metadata": {},
     "output_type": "execute_result"
    }
   ],
   "source": [
    "numOfT = 25\n",
    "TInit, Tfinal = 300, 1200\n",
    "np.linspace(TInit, Tfinal, numOfT)\n",
    "\n",
    "sorted_indices = np.argsort(array_xy[:,0])\n",
    "\n",
    "# Sort the array along the x-axis based on y[0]\n",
    "sorted_array = array_xy[sorted_indices, :]"
   ]
  },
  {
   "cell_type": "code",
   "execution_count": 218,
   "metadata": {},
   "outputs": [],
   "source": [
    "frames = []\n",
    "boxes = []\n",
    "timestep_data = []\n",
    "\n",
    "with open('/Users/Michael_wang/Documents/venkat/mint-PD/PhaseDiagram-Clease/Liquid/LiKCl-full/1.00x-LiKCl-full/xyz-mix.dump', 'r') as f:\n",
    "# with open('/Users/Michael_wang/Documents/venkat/mint-PD/PhaseDiagram-Clease/Liquid/likcl-solid-300k-1bar.dump', 'r') as f:\n",
    "# with open('/Users/Michael_wang/Documents/venkat/mint-PD/PhaseDiagram-Clease/Liquid/LiKCl-melted-300k-1bar.xyz', 'r') as f:\n",
    "    for line in f:\n",
    "        if line.startswith(\"ITEM: TIMESTEP\"):\n",
    "            # New timestep begins, store previous timestep data\n",
    "            if timestep_data:\n",
    "                tmp = np.array(timestep_data[0])\n",
    "                tmp = tmp[np.argsort(tmp[:, 0]), :]\n",
    "                frames.append(tmp[:, 1:])\n",
    "                timestep_data = []\n",
    "            next(f)  # skip the line containing the timestep value\n",
    "        elif line.startswith(\"ITEM: BOX\"):\n",
    "            tmp = list(map(float, next(f).split()))\n",
    "            x = tmp[1] - tmp[0]\n",
    "            tmp = list(map(float, next(f).split()))\n",
    "            y = tmp[1] - tmp[0]\n",
    "            tmp = list(map(float, next(f).split()))\n",
    "            z = tmp[1] - tmp[0]\n",
    "            boxes.append(np.array([x, y, z]))\n",
    "        elif line.startswith(\"ITEM: NUMBER OF ATOMS\"):\n",
    "            num_atoms = int(next(f))\n",
    "        elif line.startswith(\"ITEM: ATOMS\"):\n",
    "            # Read atom coordinates for the current timestep\n",
    "            timestep_data.append([list(map(float, next(f).split()[1:])) for _ in range(num_atoms)])\n",
    "    \n",
    "    if timestep_data:\n",
    "        tmp = np.array(timestep_data[0])\n",
    "        tmp = tmp[np.argsort(tmp[:, 0]), :]\n",
    "        frames.append(tmp[:, 1:])\n",
    "    \n",
    "frames = np.array(frames)\n",
    "boxes = np.array(boxes)"
   ]
  },
  {
   "cell_type": "code",
   "execution_count": 2,
   "metadata": {},
   "outputs": [
    {
     "name": "stdout",
     "output_type": "stream",
     "text": [
      "Distance Traveled: 0.8789197915623487\n"
     ]
    }
   ],
   "source": [
    "# def calculate_distance_periodic(initial_position, final_position, box_size):\n",
    "#     displacement = final_position - initial_position\n",
    "\n",
    "#     # Apply periodic boundary conditions\n",
    "#     displacement = np.where(displacement > 0.5 * box_size, displacement - box_size, displacement)\n",
    "#     displacement = np.where(displacement < -0.5 * box_size, displacement + box_size, displacement)\n",
    "\n",
    "#     distance_traveled = np.linalg.norm(displacement)\n",
    "#     return distance_traveled\n",
    "\n",
    "# # Example usage\n",
    "# initial_position = np.array([0.2, 0.3, 0.4])\n",
    "# final_position = np.array([18.2, 0.1, 0.3])\n",
    "# box_size = np.array([18.85, 18.85, 37.7])\n",
    "\n",
    "# distance_traveled = calculate_distance_periodic(initial_position, final_position, box_size)\n",
    "# print(\"Distance Traveled:\", distance_traveled)"
   ]
  },
  {
   "cell_type": "code",
   "execution_count": 13,
   "metadata": {},
   "outputs": [],
   "source": [
    "# boxes = np.array([\n",
    "#     [4,4,4],\n",
    "#     [4,4,4],\n",
    "#     [4,4,4],\n",
    "#     [4,4,4],\n",
    "#     [4,4,4],\n",
    "#     [4,4,4],\n",
    "#     [4,4,4],\n",
    "#     [4,4,4],\n",
    "#     [4,4,4]\n",
    "# ])\n",
    "# frames = np.array([\n",
    "#     [[0,0,0], [1,1,1]],\n",
    "#     [[1,1,1], [2,2,2]],\n",
    "#     [[0,1,1], [3,3,3]],\n",
    "#     [[3,0,0], [4,4,4]],\n",
    "#     [[0,3,3], [1,1,1]],\n",
    "#     [[1.5,0,0], [2,2,2]],\n",
    "#     [[0,0,3], [3,3,3]],\n",
    "#     [[3,3,2.5], [4,4,4]],\n",
    "#     [[0,0,0], [1,1,1]]\n",
    "# ])\n",
    "\n"
   ]
  },
  {
   "cell_type": "code",
   "execution_count": 219,
   "metadata": {},
   "outputs": [
    {
     "name": "stdout",
     "output_type": "stream",
     "text": [
      "[ 0.00079618 -0.00022848  0.02371031]\n",
      "0.008092672877857695\n"
     ]
    }
   ],
   "source": [
    "TotalDisplacement = []\n",
    "displacementVar = []\n",
    "displacements = []\n",
    "start = 0\n",
    "NumOfStep = 100\n",
    "\n",
    "for idx, f in enumerate(frames):\n",
    "    if idx < start:\n",
    "        continue\n",
    "    \n",
    "    box_size = boxes[idx]\n",
    "    # distance = f - frames[0]\n",
    "    displacement = f - frames[idx-1]\n",
    "    displacement = np.where(displacement > 0.5 * box_size, displacement - box_size, displacement)\n",
    "    displacement = np.where(displacement < -0.5 * box_size, box_size + displacement, displacement)\n",
    "    displacements.append(displacement)\n",
    "    \n",
    "    if idx < start+1:\n",
    "        TotalDisplacement.append(displacement)\n",
    "    else:\n",
    "        TotalDisplacement.append(displacement + TotalDisplacement[-1])\n",
    "    \n",
    "    if idx >= start + NumOfStep:\n",
    "        displacementVar.append(np.var(TotalDisplacement[-NumOfStep:], axis=0))\n",
    "        \n",
    "    \n",
    "\n",
    "TotalDisplacement = np.array(TotalDisplacement)\n",
    "displacementVar = np.array(displacementVar)\n",
    "print(np.mean(TotalDisplacement[-1], axis=0))   \n",
    "print(np.mean(TotalDisplacement[-1]))    \n",
    "    \n",
    "    "
   ]
  },
  {
   "cell_type": "code",
   "execution_count": 155,
   "metadata": {},
   "outputs": [
    {
     "data": {
      "text/plain": [
       "(401, 432, 3)"
      ]
     },
     "execution_count": 155,
     "metadata": {},
     "output_type": "execute_result"
    }
   ],
   "source": [
    "TotalDisplacement.shape"
   ]
  },
  {
   "cell_type": "code",
   "execution_count": 220,
   "metadata": {},
   "outputs": [
    {
     "data": {
      "text/plain": [
       "[<matplotlib.lines.Line2D at 0x7fa4528229a0>]"
      ]
     },
     "execution_count": 220,
     "metadata": {},
     "output_type": "execute_result"
    },
    {
     "data": {
      "image/png": "[encoded data removed]",
      "text/plain": [
       "<Figure size 640x480 with 1 Axes>"
      ]
     },
     "metadata": {},
     "output_type": "display_data"
    }
   ],
   "source": [
    "plt.plot(TotalDisplacement[:,100,0])\n",
    "plt.plot(TotalDisplacement[:,100,1])\n",
    "plt.plot(TotalDisplacement[:,100,2])"
   ]
  },
  {
   "cell_type": "code",
   "execution_count": 64,
   "metadata": {},
   "outputs": [],
   "source": [
    "tmp = frames[:, :, :].copy()"
   ]
  },
  {
   "cell_type": "code",
   "execution_count": 65,
   "metadata": {},
   "outputs": [
    {
     "data": {
      "text/plain": [
       "(391, 432, 3)"
      ]
     },
     "execution_count": 65,
     "metadata": {},
     "output_type": "execute_result"
    }
   ],
   "source": [
    "tmp.shape"
   ]
  },
  {
   "cell_type": "code",
   "execution_count": 68,
   "metadata": {},
   "outputs": [
    {
     "data": {
      "text/plain": [
       "array([15.25273403, 15.25273403, 30.50546807])"
      ]
     },
     "execution_count": 68,
     "metadata": {},
     "output_type": "execute_result"
    }
   ],
   "source": [
    "boxes[0]"
   ]
  },
  {
   "cell_type": "code",
   "execution_count": 221,
   "metadata": {},
   "outputs": [
    {
     "data": {
      "text/plain": [
       "[<matplotlib.lines.Line2D at 0x7fa4545fba30>]"
      ]
     },
     "execution_count": 221,
     "metadata": {},
     "output_type": "execute_result"
    },
    {
     "data": {
      "image/png": "[encoded data removed]",
      "text/plain": [
       "<Figure size 640x480 with 1 Axes>"
      ]
     },
     "metadata": {},
     "output_type": "display_data"
    }
   ],
   "source": [
    "plt.plot(displacementVar[:,100,0])\n",
    "plt.plot(displacementVar[:,100,1])\n",
    "plt.plot(displacementVar[:,100,2])\n",
    "# plt.ylim([2, 4])"
   ]
  },
  {
   "cell_type": "code",
   "execution_count": 181,
   "metadata": {},
   "outputs": [
    {
     "data": {
      "text/plain": [
       "array([0.02915454, 0.02894036, 0.02988794])"
      ]
     },
     "execution_count": 181,
     "metadata": {},
     "output_type": "execute_result"
    }
   ],
   "source": [
    "tmp = np.mean(displacementVar, axis=0)\n",
    "np.mean(tmp, axis=0)"
   ]
  },
  {
   "cell_type": "code",
   "execution_count": null,
   "metadata": {},
   "outputs": [],
   "source": [
    "array([0.00707131, 0.0067546 , 0.0073325 ])\n",
    "array([0.02915454, 0.02894036, 0.02988794])\n",
    "0.017"
   ]
  },
  {
   "cell_type": "code",
   "execution_count": 223,
   "metadata": {},
   "outputs": [
    {
     "data": {
      "text/plain": [
       "(2401, 864, 3)"
      ]
     },
     "execution_count": 223,
     "metadata": {},
     "output_type": "execute_result"
    }
   ],
   "source": [
    "displacementVar.shape"
   ]
  },
  {
   "cell_type": "code",
   "execution_count": 222,
   "metadata": {},
   "outputs": [],
   "source": [
    "toTraj = np.ones(displacementVar.shape[:-1]+(displacementVar.shape[2]+1,))"
   ]
  },
  {
   "cell_type": "code",
   "execution_count": 224,
   "metadata": {},
   "outputs": [],
   "source": [
    "toTraj[:,:,1:] = frames[-2401:]"
   ]
  },
  {
   "cell_type": "code",
   "execution_count": 209,
   "metadata": {},
   "outputs": [
    {
     "data": {
      "text/plain": [
       "array([ 1.      ,  0.241993, 14.9365  ,  0.416536])"
      ]
     },
     "execution_count": 209,
     "metadata": {},
     "output_type": "execute_result"
    }
   ],
   "source": [
    "toTraj[-1,0,:]"
   ]
  },
  {
   "cell_type": "code",
   "execution_count": 225,
   "metadata": {},
   "outputs": [
    {
     "data": {
      "text/plain": [
       "(2401, 864, 4)"
      ]
     },
     "execution_count": 225,
     "metadata": {},
     "output_type": "execute_result"
    }
   ],
   "source": [
    "toTraj.shape"
   ]
  },
  {
   "cell_type": "code",
   "execution_count": 213,
   "metadata": {},
   "outputs": [
    {
     "data": {
      "text/plain": [
       "(432,)"
      ]
     },
     "execution_count": 213,
     "metadata": {},
     "output_type": "execute_result"
    }
   ],
   "source": [
    "tmp = np.mean(displacementVar[0], axis=1)\n",
    "toTraj[0, :, 0].shape"
   ]
  },
  {
   "cell_type": "code",
   "execution_count": 216,
   "metadata": {},
   "outputs": [],
   "source": [
    "threshold = 0.016\n",
    "for idx, f in enumerate(toTraj):\n",
    "    tmp = np.mean(displacementVar[idx], axis=1)\n",
    "    toTraj[idx, :, 0] = np.where(tmp > threshold, 2, 1)"
   ]
  },
  {
   "cell_type": "code",
   "execution_count": 193,
   "metadata": {},
   "outputs": [
    {
     "data": {
      "text/plain": [
       "[<matplotlib.lines.Line2D at 0x7fa45b861640>]"
      ]
     },
     "execution_count": 193,
     "metadata": {},
     "output_type": "execute_result"
    },
    {
     "data": {
      "image/png": "[encoded data removed]",
      "text/plain": [
       "<Figure size 640x480 with 1 Axes>"
      ]
     },
     "metadata": {},
     "output_type": "display_data"
    }
   ],
   "source": []
  },
  {
   "cell_type": "code",
   "execution_count": 195,
   "metadata": {},
   "outputs": [],
   "source": [
    "def write_multiframe_xyz(filename, frames_data):\n",
    "    with open(filename, 'w') as f:\n",
    "        for frame_data in frames_data:\n",
    "            num_atoms = len(frame_data)\n",
    "            f.write(f\"{num_atoms}\\n\")\n",
    "            f.write(\"Frame\\n\")\n",
    "            for atom_data in frame_data:\n",
    "                atom_type, x, y, z = atom_data\n",
    "                f.write(f\"{atom_type} {x} {y} {z}\\n\")"
   ]
  },
  {
   "cell_type": "code",
   "execution_count": 217,
   "metadata": {},
   "outputs": [],
   "source": [
    "write_multiframe_xyz(\"processed-solid.xyz\", toTraj)"
   ]
  },
  {
   "cell_type": "code",
   "execution_count": null,
   "metadata": {},
   "outputs": [],
   "source": [
    "from ase import Atoms\n",
    "from ase.db import connect\n",
    "import numpy as np\n",
    "\n",
    "def read_xyz_file(file_path):\n",
    "    with open(file_path, 'r') as f:\n",
    "        lines = f.readlines()\n",
    "\n",
    "    # Extract number of atoms from the first line\n",
    "    num_atoms = int(lines[0])\n",
    "\n",
    "    # Parse lattice information\n",
    "    lattice_line = lines[1].split('=')\n",
    "    lattice_params = np.array(list(map(float, lattice_line[1].split()))).reshape((3, 3))\n",
    "\n",
    "    # Parse atomic positions\n",
    "    atomic_data = []\n",
    "    for line in lines[2:]:\n",
    "        tokens = line.split()\n",
    "        if len(tokens) == 7:  # Check for lines containing atomic information\n",
    "            atom_type = tokens[0]\n",
    "            x, y, z = map(float, tokens[1:4])\n",
    "            atomic_data.append([atom_type, x, y, z])\n",
    "\n",
    "    return num_atoms, lattice_params, atomic_data\n",
    "\n",
    "def create_ase_atoms(num_atoms, lattice_params, atomic_data):\n",
    "    symbols = [entry[0] for entry in atomic_data]\n",
    "    positions = np.array([entry[1:4] for entry in atomic_data])\n",
    "\n",
    "    atoms = Atoms(symbols=symbols, positions=positions, cell=lattice_params, pbc=True)\n",
    "    return atoms\n",
    "\n",
    "\n",
    "xyz_file_path = '/Users/Michael_wang/Documents/venkat/mint-PD/guo_gapml/POT/train (1).xyz'\n",
    "db_file_path = 'output.db'\n",
    "\n",
    "# Read data from XYZ file\n",
    "num_atoms, lattice_params, atomic_data = read_xyz_file(xyz_file_path)\n",
    "\n",
    "# Create ASE atoms object\n",
    "atoms = create_ase_atoms(num_atoms, lattice_params, atomic_data)\n",
    "\n",
    "# Save ASE atoms object to a .db file\n",
    "with connect(db_file_path) as db:\n",
    "    db.write(atoms)\n"
   ]
  },
  {
   "cell_type": "code",
   "execution_count": null,
   "metadata": {},
   "outputs": [],
   "source": [
    "from ase import Atoms\n",
    "from ase.io import write\n",
    "import numpy as np\n",
    "\n",
    "def read_multiframe_xyz(filename):\n",
    "    frames_data = []\n",
    "    with open(filename, 'r') as f:\n",
    "        lines = f.readlines()\n",
    "        num_frames = int(lines[0].strip())\n",
    "        line_index = 1\n",
    "\n",
    "        for _ in range(num_frames):\n",
    "            # Read lattice information and other properties\n",
    "            lattice_line = lines[line_index].split()\n",
    "            lattice = np.array([float(x) for x in lattice_line[1:]])\n",
    "            line_index += 1\n",
    "\n",
    "            # Read atomic coordinates\n",
    "            num_atoms = int(lines[line_index].strip())\n",
    "            line_index += 1\n",
    "\n",
    "            frame_data = []\n",
    "            for _ in range(num_atoms):\n",
    "                atom_info = lines[line_index].split()\n",
    "                atom_type = atom_info[0]\n",
    "                position = [float(x) for x in atom_info[1:4]]\n",
    "                frame_data.append([atom_type] + position)\n",
    "                line_index += 1\n",
    "\n",
    "            frames_data.append((lattice, frame_data))\n",
    "\n",
    "    return frames_data\n",
    "\n",
    "def convert_to_ase_atoms(frames_data):\n",
    "    atoms_list = []\n",
    "\n",
    "    for lattice, frame_data in frames_data:\n",
    "        symbols = [atom[0] for atom in frame_data]\n",
    "        positions = [atom[1:] for atom in frame_data]\n",
    "        atoms = Atoms(symbols=symbols, positions=positions, cell=lattice, pbc=True)\n",
    "        atoms_list.append(atoms)\n",
    "\n",
    "    return atoms_list\n",
    "\n",
    "# Example usage\n",
    "filename = '/Users/Michael_wang/Documents/venkat/mint-PD/guo_gapml/POT/train (1).xyz'\n",
    "frames_data = read_multiframe_xyz(filename)\n",
    "atoms_list = convert_to_ase_atoms(frames_data)\n",
    "\n",
    "# Save ASE atoms into a .db file\n",
    "write('output.db', atoms_list)\n"
   ]
  },
  {
   "cell_type": "code",
   "execution_count": 67,
   "metadata": {},
   "outputs": [],
   "source": [
    "import re\n",
    "\n",
    "frames = []\n",
    "symbols = []\n",
    "positions = []\n",
    "fileName = '/Users/Michael_wang/Documents/venkat/mint-PD/guo_gapml/POT/train.xyz'\n",
    "\n",
    "with open(fileName, 'r') as f:\n",
    "    lines = f.readlines()\n",
    "    with open (\"/Users/Michael_wang/Documents/venkat/mint-PD/guo_gapml/POT/tansfered.extxyz\", 'w') as fo:\n",
    "        for l in lines:\n",
    "            tmp = l.split()\n",
    "            if len(tmp) == 1:\n",
    "                fo.write(l)\n",
    "            elif len(tmp) > 10:\n",
    "                key_value_pairs = re.findall(r'(\\w+)=(?:\"([^\"]*)\"|(\\S+))', l)\n",
    "                key_value_pairs = [(tuple(x if x != '' else x for x in _ if x)) for _ in key_value_pairs]\n",
    "                result_dict = dict(key_value_pairs)\n",
    "                result_dict['energy'] = float(result_dict['energy'])/1000\n",
    "                myStr = ''\n",
    "                for k in result_dict:\n",
    "                    if k in [\"Lattice\", \"stress\", \"pbc\"]:\n",
    "                        myStr += k + \"=\\\"\" + str(result_dict[k]) + \"\\\" \"\n",
    "                    else:\n",
    "                        myStr += k + \"=\" + str(result_dict[k]) + \" \"\n",
    "                myStr = myStr[0:-1] + '\\n'\n",
    "                fo.write(myStr)\n",
    "                \n",
    "            elif len(tmp) == 7:\n",
    "                myStr = str(tmp[0]) + '\\t' + str(tmp[1]) + '\\t' + str(tmp[2]) + '\\t' + str(tmp[3]) + '\\t' + str(float(tmp[4])/1000) + '\\t' + str(float(tmp[5])/1000) + '\\t' + str(float(tmp[6])/1000) + '\\n'\n",
    "                fo.write(myStr)\n",
    "            "
   ]
  },
  {
   "cell_type": "code",
   "execution_count": 58,
   "metadata": {},
   "outputs": [
    {
     "data": {
      "text/plain": [
       "'ab'"
      ]
     },
     "execution_count": 58,
     "metadata": {},
     "output_type": "execute_result"
    }
   ],
   "source": [
    "a = \"abc\"\n",
    "a[0:-1]"
   ]
  },
  {
   "cell_type": "code",
   "execution_count": 45,
   "metadata": {},
   "outputs": [
    {
     "name": "stdout",
     "output_type": "stream",
     "text": [
      "25\n"
     ]
    }
   ],
   "source": [
    "tmp = \"Lattice=\\\"13.76443408 0.0 0.0 0.0 13.76443408 0.0 0.0 0.0 13.76443408\\\" Properties=species:S:1:pos:R:3:forces:R:3 energy=-633.72651771 stress=\\\"-0.01178970331034305 0.0006205258378465037 0.0007445482192870606 0.0006205258378465037 -0.0026943470488568996 -0.00032411617624323284 0.0007445482192870606 -0.00032411617624323284 -0.010878252836630083\\\" free_energy=-633.72651771 pbc=\\\"T T T\\\" config_type=melt\"\n",
    "tt = tmp.split(\" \")\n",
    "print(len(tt))"
   ]
  },
  {
   "cell_type": "code",
   "execution_count": 47,
   "metadata": {},
   "outputs": [
    {
     "data": {
      "text/plain": [
       "[('Lattice',\n",
       "  '13.76443408 0.0 0.0 0.0 13.76443408 0.0 0.0 0.0 13.76443408',\n",
       "  ''),\n",
       " ('Properties', '', 'species:S:1:pos:R:3:forces:R:3'),\n",
       " ('energy', '', '-633.72651771'),\n",
       " ('stress',\n",
       "  '-0.01178970331034305 0.0006205258378465037 0.0007445482192870606 0.0006205258378465037 -0.0026943470488568996 -0.00032411617624323284 0.0007445482192870606 -0.00032411617624323284 -0.010878252836630083',\n",
       "  ''),\n",
       " ('free_energy', '', '-633.72651771'),\n",
       " ('pbc', 'T T T', ''),\n",
       " ('config_type', '', 'melt')]"
      ]
     },
     "execution_count": 47,
     "metadata": {},
     "output_type": "execute_result"
    }
   ],
   "source": [
    "import re\n",
    "\n",
    "# r'(\\w+)=(?:\"([^\"]*)\"|(\\S+))'\n",
    "key_value_pairs = re.findall(r'(\\w+)=(?:\"([^\"]*)\"|(\\S+))', tmp)\n",
    "key_value_pairs = [(tuple(x if x != '' else x for x in _ if x)) for _ in key_value_pairs]\n",
    "key_value_pairs\n"
   ]
  },
  {
   "cell_type": "code",
   "execution_count": 48,
   "metadata": {},
   "outputs": [
    {
     "data": {
      "text/plain": [
       "[('Lattice', '13.76443408 0.0 0.0 0.0 13.76443408 0.0 0.0 0.0 13.76443408'),\n",
       " ('Properties', 'species:S:1:pos:R:3:forces:R:3'),\n",
       " ('energy', '-633.72651771'),\n",
       " ('stress',\n",
       "  '-0.01178970331034305 0.0006205258378465037 0.0007445482192870606 0.0006205258378465037 -0.0026943470488568996 -0.00032411617624323284 0.0007445482192870606 -0.00032411617624323284 -0.010878252836630083'),\n",
       " ('free_energy', '-633.72651771'),\n",
       " ('pbc', 'T T T'),\n",
       " ('config_type', 'melt')]"
      ]
     },
     "execution_count": 48,
     "metadata": {},
     "output_type": "execute_result"
    }
   ],
   "source": [
    "key_value_pairs = [(tuple(x if x != '' else x for x in _ if x)) for _ in key_value_pairs]\n",
    "key_value_pairs"
   ]
  },
  {
   "cell_type": "code",
   "execution_count": 23,
   "metadata": {},
   "outputs": [
    {
     "data": {
      "text/plain": [
       "array([[13.76443408,  0.        ,  0.        ],\n",
       "       [ 0.        , 13.76443408,  0.        ],\n",
       "       [ 0.        ,  0.        , 13.76443408]])"
      ]
     },
     "execution_count": 23,
     "metadata": {},
     "output_type": "execute_result"
    }
   ],
   "source": [
    "np.array(tmp, dtype=float).reshape(3,3)"
   ]
  },
  {
   "cell_type": "code",
   "execution_count": 34,
   "metadata": {},
   "outputs": [],
   "source": [
    "write('output.db', frames)"
   ]
  },
  {
   "cell_type": "code",
   "execution_count": 1,
   "metadata": {},
   "outputs": [
    {
     "ename": "AttributeError",
     "evalue": "module 'ase' has no attribute 'io'",
     "output_type": "error",
     "traceback": [
      "\u001b[0;31m---------------------------------------------------------------------------\u001b[0m",
      "\u001b[0;31mAttributeError\u001b[0m                            Traceback (most recent call last)",
      "\u001b[1;32m/Users/Michael_wang/Documents/venkat/mint-PD/PhaseDiagram-Clease/Liquid/asdf.ipynb Cell 80\u001b[0m line \u001b[0;36m2\n\u001b[1;32m      <a href='vscode-notebook-cell:/Users/Michael_wang/Documents/venkat/mint-PD/PhaseDiagram-Clease/Liquid/asdf.ipynb#Y142sZmlsZQ%3D%3D?line=0'>1</a>\u001b[0m \u001b[39mimport\u001b[39;00m \u001b[39mase\u001b[39;00m\n\u001b[0;32m----> <a href='vscode-notebook-cell:/Users/Michael_wang/Documents/venkat/mint-PD/PhaseDiagram-Clease/Liquid/asdf.ipynb#Y142sZmlsZQ%3D%3D?line=1'>2</a>\u001b[0m tmp \u001b[39m=\u001b[39m ase\u001b[39m.\u001b[39;49mio\u001b[39m.\u001b[39mread(\u001b[39m'\u001b[39m\u001b[39m/Users/Michael_wang/Documents/venkat/mint-PD/guo_gapml/POT/transfered.extxyz\u001b[39m\u001b[39m'\u001b[39m, \u001b[39m'\u001b[39m\u001b[39m:\u001b[39m\u001b[39m'\u001b[39m)\n",
      "\u001b[0;31mAttributeError\u001b[0m: module 'ase' has no attribute 'io'"
     ]
    }
   ],
   "source": [
    "import ase\n",
    "tmp = ase.io.read('/Users/Michael_wang/Documents/venkat/mint-PD/guo_gapml/POT/transfered.extxyz', ':')"
   ]
  },
  {
   "cell_type": "code",
   "execution_count": 4,
   "metadata": {},
   "outputs": [
    {
     "name": "stdout",
     "output_type": "stream",
     "text": [
      "K\t0.00000000\t0.00000000\t0.00000000\t0.0\t0.0\t0.0\n",
      "\n",
      "1\n",
      "\n",
      "Lattice=\"10.0 0.0 0.0 0.0 10.0 0.0 0.0 0.0 10.0\" Properties=species:S:1:pos:R:3:forces:R:3 energy=-0.00043252054 stress=\"0.00010112488716699667 0.0 0.0 0.0 0.00010112488716699667 0.0 0.0 0.0 0.00010112488716699667\" free_energy=-0.44662527 pbc=\"T T T\" config_type=isolated_atom\n",
      "\n",
      "Li\t0.00000000\t0.00000000\t0.00000000\t0.0\t-0.0\t-0.0\n",
      "\n"
     ]
    }
   ],
   "source": [
    "with open('/Users/Michael_wang/Documents/venkat/mint-PD/guo_gapml/POT/transfered.extxyz', 'r') as f:\n",
    "    for x in f.readlines()[-4:]:\n",
    "        print(x)\n",
    "    "
   ]
  },
  {
   "cell_type": "code",
   "execution_count": 6,
   "metadata": {},
   "outputs": [],
   "source": [
    "from ase.io import read, write\n",
    "# tmp = ase.io.read(\"Cl30K3Li27_ID_213_scf_1.pwi.pwo\")"
   ]
  },
  {
   "cell_type": "code",
   "execution_count": 4,
   "metadata": {},
   "outputs": [],
   "source": [
    "xs = [\"Cl30K3Li27_ID_214_scf_1.pwi.pwo\", \"Cl30K3Li27_ID_213_scf_1.pwi.pwo\"]"
   ]
  },
  {
   "cell_type": "code",
   "execution_count": 7,
   "metadata": {},
   "outputs": [],
   "source": [
    "myAtoms = []\n",
    "for x in xs:\n",
    "    myAtoms.append(read(x))\n",
    "\n",
    "write(\"train.extxyz\", myAtoms)"
   ]
  },
  {
   "cell_type": "code",
   "execution_count": 2,
   "metadata": {},
   "outputs": [],
   "source": [
    "tmp = connect(\"/Users/Michael_wang/Documents/venkat/NequIP/try/NequIP-Tutorial-Duplicate (1)/nequip/nequip/scripts/benzene-asdf.db\")\n",
    "tmp.delete(range(1,49000))"
   ]
  },
  {
   "cell_type": "code",
   "execution_count": 12,
   "metadata": {},
   "outputs": [
    {
     "name": "stdout",
     "output_type": "stream",
     "text": [
      "1\n"
     ]
    }
   ],
   "source": [
    "a = []\n",
    "\n",
    "if a == []:\n",
    "    print(1)\n",
    "else:\n",
    "    print(2)"
   ]
  },
  {
   "cell_type": "code",
   "execution_count": 2,
   "metadata": {},
   "outputs": [],
   "source": [
    "coreNum = [1,2,4,8,16]\n",
    "lmpTime = np.array([184.125, 96.8288, 47.7304, 20.9744, 15.3383])\n",
    "myTime = np.array([128.479, 55.937, 29.0859, 15.6195, 9.00446])"
   ]
  },
  {
   "cell_type": "code",
   "execution_count": 3,
   "metadata": {},
   "outputs": [
    {
     "name": "stderr",
     "output_type": "stream",
     "text": [
      "mach_inject_bundle load_bundle_package: /Library/Application Support/MacEnhance/Plugins/AfloatX.bundle\n"
     ]
    }
   ],
   "source": [
    "%matplotlib qt\n",
    "plt.plot(coreNum, lmpTime/myTime, '-o')\n",
    "# plt.plot(coreNum, , '-o')\n",
    "plt.xscale(\"log\")\n",
    "# plt.yscale(\"log\")\n",
    "plt.xticks(ticks=[1,2,4,8,16], labels=[\"1\",\"2\",\"4\",\"8\",\"16\"])\n",
    "plt.xlabel(\"Number of Cores\")\n",
    "plt.ylabel(\"Bridges2 LAMMPS runtime / Custom LAMMPS runtime\")\n",
    "plt.ylim([0,2])\n",
    "plt.show()"
   ]
  },
  {
   "cell_type": "code",
   "execution_count": 5,
   "metadata": {},
   "outputs": [],
   "source": [
    "lmpSU = lmpTime[0]/lmpTime\n",
    "mySU = myTime[0]/myTime"
   ]
  },
  {
   "cell_type": "code",
   "execution_count": 6,
   "metadata": {},
   "outputs": [],
   "source": [
    "plt.plot(coreNum, lmpSU, '-o')\n",
    "plt.plot(coreNum, mySU, '-o')\n",
    "plt.legend([\"Bridges2 LAMMPS\", \"Custom LAMMPS\"])\n",
    "plt.xscale(\"log\")\n",
    "plt.yscale(\"log\")\n",
    "plt.xticks(ticks=[1,2,4,8,16], labels=[\"1\",\"2\",\"4\",\"8\",\"16\"])\n",
    "plt.xlabel(\"Number of Cores\")\n",
    "plt.ylabel(\"Speedup\")\n",
    "plt.show()"
   ]
  },
  {
   "cell_type": "code",
   "execution_count": 16,
   "metadata": {},
   "outputs": [
    {
     "data": {
      "text/plain": [
       "array([1, 3, 4])"
      ]
     },
     "execution_count": 16,
     "metadata": {},
     "output_type": "execute_result"
    }
   ],
   "source": [
    "a = np.array([1,2,3,4,5])\n",
    "b = [0,2,3]\n",
    "a[b]"
   ]
  },
  {
   "cell_type": "code",
   "execution_count": 18,
   "metadata": {},
   "outputs": [],
   "source": [
    "import random\n",
    "from ase.db import connect\n",
    "from ase.io import read, write\n",
    "numlst = list(range(627983)) \n",
    "random.shuffle(numlst) \n",
    "\n",
    "myDb = connect(\"/Users/Michael_wang/Documents/venkat/MLIP/db/benzene.db\")\n",
    "\n",
    "atomAList = []\n",
    "for row in myDb.select(\"\"):\n",
    "    tmp = row.toatoms()\n",
    "    atomAList.append(tmp)\n",
    "    # if len(tmp.numbers) == 15:\n",
    "    #     atomAList.append(tmp)\n",
    "    # else:\n",
    "    #     atomBList.append(tmp)\n",
    "    \n",
    "atomAList2 = []\n",
    "for i in range(2000):\n",
    "    atomAList2.append(atomAList[numlst[i]])\n",
    "\n",
    "write(\"/Users/Michael_wang/Documents/venkat/MLIP/db/benzene-2000.extxyz\", atomAList2)\n",
    "# write(\"/Users/Michael_wang/Documents/venkat/MLIP/db/tol-dataset-2000.extxyz\", atomBList)"
   ]
  },
  {
   "cell_type": "code",
   "execution_count": 2,
   "metadata": {},
   "outputs": [],
   "source": [
    "import numpy as np\n",
    "from matplotlib import pyplot as plt\n",
    "from ovito.io import import_file, export_file\n",
    "from ovito.modifiers import ConstructSurfaceModifier, CoordinationAnalysisModifier, TimeAveragingModifier"
   ]
  },
  {
   "cell_type": "code",
   "execution_count": 9,
   "metadata": {},
   "outputs": [
    {
     "name": "stdout",
     "output_type": "stream",
     "text": [
      "Number of MD frames: 2000\n"
     ]
    }
   ],
   "source": [
    "avgOver = 2000\n",
    "Nbins = 200\n",
    "\n",
    "\n",
    "# Load a simulation trajectory consisting of several frames:\n",
    "pipeline = import_file(\"/Users/Michael_wang/Documents/venkat/MLIP/db/nap-dataset-2000.extxyz\")\n",
    "print(\"Number of MD frames:\", pipeline.source.num_frames)\n",
    "\n",
    "# Insert the RDF calculation modifier into the pipeline:\n",
    "pipeline.modifiers.append(CoordinationAnalysisModifier(cutoff = 2.0, number_of_bins = Nbins, partial = False))\n",
    "\n",
    "# Insert the time-averaging modifier into the pipeline, which accumulates\n",
    "# the instantaneous DataTable produced by the previous modifier and computes a mean histogram.\n",
    "# pipeline.modifiers.append(TimeAveragingModifier(operate_on='table:coordination-rdf'))\n",
    "averageRDFData = np.zeros((avgOver, Nbins, 2))\n",
    "# Data export method 1: Convert to NumPy array and write data to a text file:\n",
    "for i in range(avgOver):\n",
    "    total_rdf = pipeline.compute(i).tables['coordination-rdf'].xy()\n",
    "    averageRDFData[i] = total_rdf\n",
    "\n",
    "averageRDFData = np.mean(averageRDFData, axis=0)\n",
    "\n",
    "plt.plot(averageRDFData[:, 1:])\n",
    "plt.show()"
   ]
  },
  {
   "cell_type": "code",
   "execution_count": 7,
   "metadata": {},
   "outputs": [
    {
     "data": {
      "text/plain": [
       "<subprocess.Popen at 0x7f82dffd43a0>"
      ]
     },
     "execution_count": 7,
     "metadata": {},
     "output_type": "execute_result"
    },
    {
     "name": "stderr",
     "output_type": "stream",
     "text": [
      "mach_inject_bundle load_bundle_package: /Library/Application Support/MacEnhance/Plugins/AfloatX.bundle\n"
     ]
    }
   ],
   "source": [
    "from ase.io import read\n",
    "from ase.visualize import view\n",
    "tmp = read(\"/Users/Michael_wang/Documents/venkat/MLIP/db/tol-dataset-2000.extxyz\", index=':')\n",
    "view(tmp[0])"
   ]
  },
  {
   "cell_type": "code",
   "execution_count": 10,
   "metadata": {},
   "outputs": [
    {
     "name": "stdout",
     "output_type": "stream",
     "text": [
      "Number of MD frames: 2000\n"
     ]
    }
   ],
   "source": [
    "avgOver = 2000\n",
    "Nbins = 200\n",
    "\n",
    "\n",
    "# Load a simulation trajectory consisting of several frames:\n",
    "pipeline = import_file(\"/Users/Michael_wang/Documents/venkat/MLIP/db/tol-dataset-2000.extxyz\")\n",
    "print(\"Number of MD frames:\", pipeline.source.num_frames)\n",
    "\n",
    "# Insert the RDF calculation modifier into the pipeline:\n",
    "pipeline.modifiers.append(CoordinationAnalysisModifier(cutoff = 2.0, number_of_bins = Nbins, partial = False))\n",
    "\n",
    "# Insert the time-averaging modifier into the pipeline, which accumulates\n",
    "# the instantaneous DataTable produced by the previous modifier and computes a mean histogram.\n",
    "# pipeline.modifiers.append(TimeAveragingModifier(operate_on='table:coordination-rdf'))\n",
    "averageRDFData2 = np.zeros((avgOver, Nbins, 2))\n",
    "# Data export method 1: Convert to NumPy array and write data to a text file:\n",
    "for i in range(avgOver):\n",
    "    total_rdf = pipeline.compute(i).tables['coordination-rdf'].xy()\n",
    "    averageRDFData2[i] = total_rdf\n",
    "\n",
    "averageRDFData2 = np.mean(averageRDFData2, axis=0)\n",
    "\n",
    "plt.plot(averageRDFData2[:, 1:])\n",
    "plt.show()"
   ]
  },
  {
   "cell_type": "code",
   "execution_count": 11,
   "metadata": {},
   "outputs": [
    {
     "name": "stdout",
     "output_type": "stream",
     "text": [
      "Number of MD frames: 2000\n"
     ]
    }
   ],
   "source": [
    "avgOver = 2000\n",
    "Nbins = 200\n",
    "\n",
    "\n",
    "# Load a simulation trajectory consisting of several frames:\n",
    "pipeline = import_file(\"/Users/Michael_wang/Documents/venkat/MLIP/db/ben-dataset-2000.extxyz\")\n",
    "print(\"Number of MD frames:\", pipeline.source.num_frames)\n",
    "\n",
    "# Insert the RDF calculation modifier into the pipeline:\n",
    "pipeline.modifiers.append(CoordinationAnalysisModifier(cutoff = 2.0, number_of_bins = Nbins, partial = False))\n",
    "\n",
    "# Insert the time-averaging modifier into the pipeline, which accumulates\n",
    "# the instantaneous DataTable produced by the previous modifier and computes a mean histogram.\n",
    "# pipeline.modifiers.append(TimeAveragingModifier(operate_on='table:coordination-rdf'))\n",
    "averageRDFData3 = np.zeros((avgOver, Nbins, 2))\n",
    "# Data export method 1: Convert to NumPy array and write data to a text file:\n",
    "for i in range(avgOver):\n",
    "    total_rdf = pipeline.compute(i).tables['coordination-rdf'].xy()\n",
    "    averageRDFData3[i] = total_rdf\n",
    "\n",
    "averageRDFData3 = np.mean(averageRDFData3, axis=0)\n",
    "\n",
    "plt.plot(averageRDFData3[:, 1:])\n",
    "plt.show()"
   ]
  },
  {
   "cell_type": "code",
   "execution_count": 12,
   "metadata": {},
   "outputs": [],
   "source": [
    "myX = np.linspace(0, 2, Nbins, endpoint=True)"
   ]
  },
  {
   "cell_type": "code",
   "execution_count": 13,
   "metadata": {},
   "outputs": [],
   "source": [
    "%matplotlib qt\n",
    "plt.plot(myX, averageRDFData3[:, 1:])\n",
    "plt.plot(myX, averageRDFData2[:, 1:])\n",
    "plt.plot(myX, averageRDFData[:, 1:])\n",
    "plt.xlabel(\"Angstrom\")\n",
    "plt.ylabel(\"g(r)\")\n",
    "plt.xlim([0.75, 2])\n",
    "plt.legend([\"Benzene\", \"Naphthalene\", \"Toluene\"])\n",
    "plt.show()"
   ]
  },
  {
   "cell_type": "code",
   "execution_count": 10,
   "metadata": {},
   "outputs": [
    {
     "data": {
      "text/plain": [
       "(200, 2)"
      ]
     },
     "execution_count": 10,
     "metadata": {},
     "output_type": "execute_result"
    }
   ],
   "source": [
    "averageRDFData2.shape"
   ]
  },
  {
   "cell_type": "code",
   "execution_count": 4,
   "metadata": {},
   "outputs": [],
   "source": [
    "tmp = read_lammps_data(\"/Users/Michael_wang/Downloads/initial-solid.data\")"
   ]
  },
  {
   "cell_type": "code",
   "execution_count": 9,
   "metadata": {},
   "outputs": [],
   "source": [
    "tmp.set_cell(tmp.cell*1.1, scale_atoms=True)\n",
    "write_lammps_data(\"/Users/Michael_wang/Downloads/initial-solid-1.1.data\", tmp, atom_style='full')"
   ]
  },
  {
   "cell_type": "code",
   "execution_count": 2,
   "metadata": {},
   "outputs": [],
   "source": [
    "data = read(\"/Users/Michael_wang/Documents/venkat/mint-PD/PhaseDiagram-Clease/train-stress.extxyz\", index=\":\")"
   ]
  },
  {
   "cell_type": "code",
   "execution_count": 41,
   "metadata": {},
   "outputs": [],
   "source": [
    "E = []\n",
    "F = []\n",
    "S = []\n",
    "for d in data:\n",
    "    E.append(d.get_potential_energy()/len(d.numbers))\n",
    "    for tmp in d.get_forces()[:,2]:\n",
    "        F.append(tmp)\n",
    "    for tmp in d.get_stress().flatten():\n",
    "        S.append(tmp)"
   ]
  },
  {
   "cell_type": "code",
   "execution_count": 13,
   "metadata": {},
   "outputs": [
    {
     "data": {
      "text/plain": [
       "Text(0.5, 0, 'eV/atom')"
      ]
     },
     "execution_count": 13,
     "metadata": {},
     "output_type": "execute_result"
    },
    {
     "data": {
      "image/png": "[encoded data removed]",
      "text/plain": [
       "<Figure size 640x480 with 1 Axes>"
      ]
     },
     "metadata": {},
     "output_type": "display_data"
    }
   ],
   "source": [
    "plt.hist(E, bins=300, range=[-783, -782])\n",
    "plt.xlabel(\"eV/atom\")"
   ]
  },
  {
   "cell_type": "code",
   "execution_count": 16,
   "metadata": {},
   "outputs": [
    {
     "ename": "ValueError",
     "evalue": "setting an array element with a sequence. The requested array has an inhomogeneous shape after 1 dimensions. The detected shape was (1095,) + inhomogeneous part.",
     "output_type": "error",
     "traceback": [
      "\u001b[0;31m---------------------------------------------------------------------------\u001b[0m",
      "\u001b[0;31mValueError\u001b[0m                                Traceback (most recent call last)",
      "Cell \u001b[0;32mIn [16], line 1\u001b[0m\n\u001b[0;32m----> 1\u001b[0m F \u001b[38;5;241m=\u001b[39m \u001b[43mnp\u001b[49m\u001b[38;5;241;43m.\u001b[39;49m\u001b[43marray\u001b[49m\u001b[43m(\u001b[49m\u001b[43mF\u001b[49m\u001b[43m)\u001b[49m\n\u001b[1;32m      2\u001b[0m F\u001b[38;5;241m.\u001b[39mshape\n",
      "\u001b[0;31mValueError\u001b[0m: setting an array element with a sequence. The requested array has an inhomogeneous shape after 1 dimensions. The detected shape was (1095,) + inhomogeneous part."
     ]
    }
   ],
   "source": [
    "F\n"
   ]
  },
  {
   "cell_type": "code",
   "execution_count": 42,
   "metadata": {},
   "outputs": [
    {
     "data": {
      "text/plain": [
       "Text(0.5, 1.0, 'Forces in z')"
      ]
     },
     "execution_count": 42,
     "metadata": {},
     "output_type": "execute_result"
    },
    {
     "data": {
      "image/png": "[encoded data removed]",
      "text/plain": [
       "<Figure size 640x480 with 1 Axes>"
      ]
     },
     "metadata": {},
     "output_type": "display_data"
    }
   ],
   "source": [
    "plt.hist(F, bins=300, range=[-5, 5])\n",
    "plt.xlabel(\"eV/A\")\n",
    "plt.title(\"Forces in z\")"
   ]
  },
  {
   "cell_type": "code",
   "execution_count": 34,
   "metadata": {},
   "outputs": [
    {
     "data": {
      "text/plain": [
       "(0.0, 50.0)"
      ]
     },
     "execution_count": 34,
     "metadata": {},
     "output_type": "execute_result"
    },
    {
     "data": {
      "image/png": "[encoded data removed]",
      "text/plain": [
       "<Figure size 640x480 with 1 Axes>"
      ]
     },
     "metadata": {},
     "output_type": "display_data"
    }
   ],
   "source": [
    "plt.hist(S, bins=300, range=[-1.41, -1.405])\n",
    "plt.xlabel(\"eV/A^3\")\n",
    "plt.title(\"Stress\")\n",
    "plt.ylim([0,50])"
   ]
  },
  {
   "cell_type": "code",
   "execution_count": 61,
   "metadata": {},
   "outputs": [],
   "source": [
    "df = pd.read_csv(\"/Users/Michael_wang/Documents/venkat/mint-PD/PhaseDiagram-Clease/nequip.csv\")"
   ]
  },
  {
   "cell_type": "code",
   "execution_count": 62,
   "metadata": {},
   "outputs": [
    {
     "data": {
      "text/plain": [
       "Index(['epoch', 'batch', 'loss', 'loss_f', 'loss_e', 'loss_stress', 'f_mae',\n",
       "       'f_rmse', 'Li_f_mae', 'Cl_f_mae', 'K_f_mae', 'psavg_f_mae', 'Li_f_rmse',\n",
       "       'Cl_f_rmse', 'K_f_rmse', 'psavg_f_rmse', 'e_mae', 'e/N_mae',\n",
       "       'stress_mae', 'stress_rmse'],\n",
       "      dtype='object')"
      ]
     },
     "execution_count": 62,
     "metadata": {},
     "output_type": "execute_result"
    }
   ],
   "source": [
    "df.columns"
   ]
  },
  {
   "cell_type": "code",
   "execution_count": 59,
   "metadata": {},
   "outputs": [
    {
     "data": {
      "text/plain": [
       "[<matplotlib.lines.Line2D at 0x2467826d0>]"
      ]
     },
     "execution_count": 59,
     "metadata": {},
     "output_type": "execute_result"
    },
    {
     "data": {
      "image/png": "[encoded data removed]",
      "text/plain": [
       "<Figure size 640x480 with 1 Axes>"
      ]
     },
     "metadata": {},
     "output_type": "display_data"
    }
   ],
   "source": [
    "plt.semilogy(df[\" stress_rmse\"])"
   ]
  },
  {
   "cell_type": "code",
   "execution_count": 69,
   "metadata": {},
   "outputs": [
    {
     "data": {
      "image/png": "[encoded data removed]",
      "text/plain": [
       "<Figure size 800x600 with 4 Axes>"
      ]
     },
     "metadata": {},
     "output_type": "display_data"
    }
   ],
   "source": [
    "# Creating the 2x2 plot\n",
    "fig, axs = plt.subplots(2, 2, figsize=(8, 6))  # Create a figure and a 2x2 grid of axes\n",
    "\n",
    "# Plotting 'e/N_mae'\n",
    "axs[0, 0].semilogy(df['epoch'], df['e/N_mae'])\n",
    "axs[0, 0].set_title('Energy/N MAE (eV)')\n",
    "axs[0, 0].set_xlabel('Epoch')\n",
    "axs[0, 0].set_ylabel('Energy/N MAE (eV)')\n",
    "\n",
    "# Plotting 'f_mae'\n",
    "axs[0, 1].semilogy(df['epoch'], df['f_mae'])\n",
    "axs[0, 1].set_title('Force MAE (eV/A)')\n",
    "axs[0, 1].set_xlabel('Epoch')\n",
    "axs[0, 1].set_ylabel('Force MAE (eV/A)')\n",
    "\n",
    "# Plotting 'stress_mae'\n",
    "axs[1, 0].semilogy(df['epoch'], df['stress_mae'])\n",
    "axs[1, 0].set_title('Stress MAE (eV/A^3)')\n",
    "axs[1, 0].set_xlabel('Epoch')\n",
    "axs[1, 0].set_ylabel('Stress MAE (eV/A^3)')\n",
    "\n",
    "# Plotting 'loss'\n",
    "axs[1, 1].semilogy(df['epoch'], df['loss'])\n",
    "axs[1, 1].set_title('Loss')\n",
    "axs[1, 1].set_xlabel('Epoch')\n",
    "axs[1, 1].set_ylabel('Loss')\n",
    "\n",
    "plt.tight_layout()  # Adjust the layout to make sure there's no overlap\n",
    "plt.show()  # Display the plots"
   ]
  },
  {
   "cell_type": "code",
   "execution_count": 71,
   "metadata": {},
   "outputs": [
    {
     "name": "stdout",
     "output_type": "stream",
     "text": [
      "273.1404986381531\n"
     ]
    },
    {
     "data": {
      "image/png": "[encoded data removed]",
      "text/plain": [
       "<Figure size 800x600 with 4 Axes>"
      ]
     },
     "metadata": {},
     "output_type": "display_data"
    }
   ],
   "source": [
    "import json\n",
    "\n",
    "# File path\n",
    "file_path = '/Users/Michael_wang/Documents/venkat/mint-PD/PhaseDiagram-Clease/mace_fine_tunning_100_run-42_train.txt'\n",
    "\n",
    "# Initialize lists to hold data\n",
    "epochs = []\n",
    "losses = []\n",
    "mae_es = []\n",
    "mae_fs = []\n",
    "mae_stresses = []\n",
    "time = []\n",
    "\n",
    "# Read the file and extract data\n",
    "with open(file_path, 'r') as file:\n",
    "    for line in file:\n",
    "        try:\n",
    "            # Convert line to dictionary\n",
    "            data = json.loads(line)\n",
    "\n",
    "            # Check if all required keys are in the dictionary\n",
    "            if all(key in data for key in ['loss', 'mae_e', 'mae_f', 'mae_stress', 'epoch']):\n",
    "                # Append data to lists\n",
    "                epochs.append(data['epoch'])\n",
    "                losses.append(data['loss'])\n",
    "                mae_es.append(data['mae_e'])\n",
    "                mae_fs.append(data['mae_f'])\n",
    "                mae_stresses.append(data['mae_stress'])\n",
    "                time.append(data['time'])\n",
    "        except json.JSONDecodeError:\n",
    "            continue  # Skip lines that are not valid JSON\n",
    "\n",
    "print(np.sum(time))\n",
    "\n",
    "# Create a DataFrame\n",
    "df = pd.DataFrame({\n",
    "    'epoch': epochs,\n",
    "    'loss': losses,\n",
    "    'mae_e': mae_es,\n",
    "    'mae_f': mae_fs,\n",
    "    'mae_stress': mae_stresses\n",
    "})\n",
    "\n",
    "# Plotting\n",
    "fig, axs = plt.subplots(2, 2, figsize=(8, 6))  # Create a figure and a 2x2 grid of axes\n",
    "\n",
    "# Plotting 'mae_e'\n",
    "axs[0, 0].semilogy(df['epoch'], df['mae_e'])\n",
    "axs[0, 0].set_title('Energy MAE (eV)')\n",
    "axs[0, 0].set_xlabel('Epoch')\n",
    "axs[0, 0].set_ylabel('Energy MAE (eV)')\n",
    "\n",
    "# Plotting 'mae_f'\n",
    "axs[0, 1].semilogy(df['epoch'], df['mae_f'])\n",
    "axs[0, 1].set_title('Force MAE (eV/A)')\n",
    "axs[0, 1].set_xlabel('Epoch')\n",
    "axs[0, 1].set_ylabel('Force MAE (eV/A)')\n",
    "\n",
    "# Plotting 'mae_stress'\n",
    "axs[1, 0].semilogy(df['epoch'], df['mae_stress'])\n",
    "axs[1, 0].set_title('Stress MAE (eV/A^3)')\n",
    "axs[1, 0].set_xlabel('Epoch')\n",
    "axs[1, 0].set_ylabel('Stress MAE (eV/A^3)')\n",
    "\n",
    "# Plotting 'loss' using semilogy\n",
    "axs[1, 1].semilogy(df['epoch'], df['loss'])\n",
    "axs[1, 1].set_title('Loss')\n",
    "axs[1, 1].set_xlabel('Epoch')\n",
    "axs[1, 1].set_ylabel('Loss')\n",
    "\n",
    "plt.tight_layout()  # Adjust the layout to make sure there's no overlap\n",
    "plt.show()  # Display the plots\n"
   ]
  },
  {
   "cell_type": "code",
   "execution_count": null,
   "metadata": {},
   "outputs": [],
   "source": [
    "from ovito.io import import_file, export_file\n",
    "from ovito.modifiers import CoordinationAnalysisModifier, TimeAveragingModifier\n",
    "import numpy"
   ]
  },
  {
   "cell_type": "code",
   "execution_count": null,
   "metadata": {},
   "outputs": [],
   "source": [
    "# Load a simulation trajectory consisting of several frames:\n",
    "pipeline = import_file(\"input/simulation.dump\")\n",
    "print(\"Number of MD frames:\", pipeline.source.num_frames)\n",
    "\n",
    "# Insert the RDF calculation modifier into the pipeline:\n",
    "pipeline.modifiers.append(CoordinationAnalysisModifier(cutoff = 5.0, number_of_bins = 200))\n",
    "\n",
    "# Insert the time-averaging modifier into the pipeline, which accumulates\n",
    "# the instantaneous DataTable produced by the previous modifier and computes a mean histogram.\n",
    "pipeline.modifiers.append(TimeAveragingModifier(operate_on='table:coordination-rdf'))\n",
    "\n",
    "# Data export method 1: Convert to NumPy array and write data to a text file:\n",
    "total_rdf = pipeline.compute().tables['coordination-rdf[average]'].xy()\n",
    "numpy.savetxt(\"output/rdf.txt\", total_rdf)\n",
    "\n",
    "# Data export method 2: Use OVITO's own export function for DataTable objects:\n",
    "export_file(pipeline, \"output/rdf.txt\", \"txt/table\", key=\"coordination-rdf[average]\")"
   ]
  },
  {
   "cell_type": "code",
   "execution_count": 3,
   "metadata": {},
   "outputs": [],
   "source": [
    "tmp = read_lammps_data(\"/Users/Michael_wang/Documents/venkat/mint-PD/PhaseDiagram-Clease/LiKCl-chgnet-0.3.0-prod/0.10x-LiKCl-chgnet-0.3.0-prod/initial-solid.data\")"
   ]
  },
  {
   "cell_type": "code",
   "execution_count": 6,
   "metadata": {},
   "outputs": [
    {
     "name": "stdout",
     "output_type": "stream",
     "text": [
      "['0.00x-LiKCl-chgnet-0.3.0-cell-relaxed', '0.10x-LiKCl-chgnet-0.3.0-cell-relaxed', '0.20x-LiKCl-chgnet-0.3.0-cell-relaxed', '0.30x-LiKCl-chgnet-0.3.0-cell-relaxed', '0.40x-LiKCl-chgnet-0.3.0-cell-relaxed', '0.50x-LiKCl-chgnet-0.3.0-cell-relaxed', '0.60x-LiKCl-chgnet-0.3.0-cell-relaxed', '0.70x-LiKCl-chgnet-0.3.0-cell-relaxed', '0.80x-LiKCl-chgnet-0.3.0-cell-relaxed', '0.90x-LiKCl-chgnet-0.3.0-cell-relaxed', '1.00x-LiKCl-chgnet-0.3.0-cell-relaxed']\n"
     ]
    },
    {
     "data": {
      "image/png": "[encoded data removed]",
      "text/plain": [
       "<Figure size 1000x600 with 1 Axes>"
      ]
     },
     "metadata": {},
     "output_type": "display_data"
    }
   ],
   "source": [
    "import os\n",
    "import re\n",
    "import numpy as np\n",
    "import matplotlib.pyplot as plt\n",
    "from ase.io import read\n",
    "\n",
    "def natural_sort(l):\n",
    "    convert = lambda text: int(text) if text.isdigit() else text.lower()\n",
    "    alphanum_key = lambda key: [convert(c) for c in re.split('([0-9]+)', key)]\n",
    "    return sorted(l, key=alphanum_key)\n",
    "\n",
    "# Set the directory path\n",
    "directory = \"/Users/Michael_wang/Downloads/LiKCl-chgnet-0.3.0-cell-relaxed\"\n",
    "\n",
    "# Get all folders in the directory\n",
    "folders = [folder for folder in os.listdir(directory) if os.path.isdir(os.path.join(directory, folder))]\n",
    "\n",
    "# Sort the folder names\n",
    "sorted_folders = sorted(folders)\n",
    "print(sorted_folders)\n",
    "\n",
    "# Initialize lists to store folder names and volumes\n",
    "folder_names = []\n",
    "volumes = []\n",
    "\n",
    "# Iterate over the sorted folders\n",
    "for folder in sorted_folders:\n",
    "    # Construct the file path\n",
    "    file_path = os.path.join(directory, folder, \"initial-solid.data\")\n",
    "    \n",
    "    # Check if the file exists\n",
    "    if os.path.isfile(file_path):\n",
    "        # Read the LAMMPS data file using ASE\n",
    "        atoms = read_lammps_data(file_path)\n",
    "        \n",
    "        # Get the cell volume\n",
    "        volume = atoms.get_volume()\n",
    "        \n",
    "        # Append the folder name and volume to the lists\n",
    "        folder_names.append(folder)\n",
    "        volumes.append(volume)\n",
    "\n",
    "# Plot the volume against folder names\n",
    "plt.figure(figsize=(10, 6))\n",
    "plt.plot(volumes)\n",
    "plt.plot([0, 10], [volumes[0], volumes[-1]], linestyle='--', color='red')  # Add this line\n",
    "plt.xlabel(\"Folder\")\n",
    "plt.ylabel(\"Volume (Å³)\")\n",
    "plt.title(\"Cell Volume vs. Folder\")\n",
    "plt.xticks(rotation=45)\n",
    "plt.tight_layout()\n",
    "plt.show()"
   ]
  },
  {
   "cell_type": "code",
   "execution_count": null,
   "metadata": {},
   "outputs": [],
   "source": [
    "import matplotlib.pyplot as plt\n",
    "import numpy as np\n",
    "\n",
    "# Example 2x2x3x3 matrix (replace with your actual matrix)\n",
    "matrix = np.random.rand(2, 2, 3, 3)\n",
    "\n",
    "# Create a figure and axis\n",
    "fig, ax = plt.subplots()\n",
    "\n",
    "# Set up the grid\n",
    "N = 3  # Change as necessary\n",
    "points = np.arange(N * N).reshape(N, N)\n",
    "\n",
    "# Draw the arrows based on the matrix values\n",
    "for i in range(N):\n",
    "    for j in range(N):\n",
    "        # Horizontal arrows\n",
    "        right_val = matrix[0, 0, i, j]\n",
    "        left_val = matrix[0, 1, i, j]\n",
    "        \n",
    "        ax.annotate(\"\", xy=(j + 1, N - 1 - i + 0.1), xytext=(j, N - 1 - i + 0.1), \n",
    "                    arrowprops=dict(facecolor=plt.cm.viridis(right_val), shrink=0.05))\n",
    "        ax.annotate(\"\", xy=(j, N - 1 - i - 0.1), xytext=(j + 1, N - 1 - i - 0.1), \n",
    "                    arrowprops=dict(facecolor=plt.cm.viridis(left_val), shrink=0.05))\n",
    "        \n",
    "        # Vertical arrows\n",
    "        up_val = matrix[1, 0, i, j]\n",
    "        down_val = matrix[1, 1, i, j]\n",
    "        \n",
    "        ax.annotate(\"\", xy=(j - 0.1, N - 1 - i + 1), xytext=(j - 0.1, N - 1 - i), \n",
    "                    arrowprops=dict(facecolor=plt.cm.viridis(up_val), shrink=0.05))\n",
    "        ax.annotate(\"\", xy=(j + 0.1, N - 1 - i), xytext=(j + 0.1, N - 1 - i + 1), \n",
    "                    arrowprops=dict(facecolor=plt.cm.viridis(down_val), shrink=0.05))\n",
    "\n",
    "# Set the aspect of the plot to be equal\n",
    "ax.set_aspect('equal')\n",
    "\n",
    "# Set axis limits\n",
    "ax.set_xlim(-0.5, N - 0.5)\n",
    "ax.set_ylim(-0.5, N - 0.5)\n",
    "\n",
    "# Remove axis ticks\n",
    "ax.set_xticks([])\n",
    "ax.set_yticks([])\n",
    "\n",
    "# Add grid\n",
    "ax.grid(True)\n",
    "\n",
    "# Show the plot\n",
    "plt.show()"
   ]
  },
  {
   "cell_type": "code",
   "execution_count": 2,
   "metadata": {},
   "outputs": [],
   "source": [
    "tmp = read_lammps_data(\"/Users/Michael_wang/Documents/venkat/mint-PD/PhaseDiagram-Clease/LiKCl-CHGNET-finetuned/2.00x-LiKCl-CHGNET-finetuned/initial-solid.data\")"
   ]
  },
  {
   "cell_type": "code",
   "execution_count": null,
   "metadata": {},
   "outputs": [],
   "source": [
    "tmpCharge = tmpAtoms.numbers.copy()\n",
    "tmpCharge[tmpCharge == 3] = 1\n",
    "tmpCharge[tmpCharge == 17] = -1\n",
    "tmpCharge[tmpCharge == 19] = 1\n",
    "tmpAtoms.set_initial_charges(tmpCharge)"
   ]
  }
 ],
 "metadata": {
  "kernelspec": {
   "display_name": "demo",
   "language": "python",
   "name": "python3"
  },
  "language_info": {
   "codemirror_mode": {
    "name": "ipython",
    "version": 3
   },
   "file_extension": ".py",
   "mimetype": "text/x-python",
   "name": "python",
   "nbconvert_exporter": "python",
   "pygments_lexer": "ipython3",
   "version": "3.9.13"
  }
 },
 "nbformat": 4,
 "nbformat_minor": 2
}
