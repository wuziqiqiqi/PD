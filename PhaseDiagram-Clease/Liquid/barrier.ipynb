{
 "cells": [
  {
   "cell_type": "code",
   "execution_count": null,
   "metadata": {},
   "outputs": [],
   "source": []
  },
  {
   "cell_type": "markdown",
   "metadata": {},
   "source": []
  },
  {
   "cell_type": "code",
   "execution_count": 259,
   "metadata": {},
   "outputs": [
    {
     "name": "stdout",
     "output_type": "stream",
     "text": [
      "impossible connectivity found! you idiot!\n",
      "0 1 [0, 0, 0] 0.0\n",
      "impossible connectivity found! you idiot!\n",
      "0 3 [0, 0, 3] 0.0\n",
      "0 4 [1, 0, 0] 1.0\n",
      "impossible connectivity found! you idiot!\n",
      "impossible connectivity found! you idiot!\n",
      "impossible connectivity found! you idiot!\n",
      "impossible connectivity found! you idiot!\n",
      "impossible connectivity found! you idiot!\n",
      "impossible connectivity found! you idiot!\n",
      "impossible connectivity found! you idiot!\n",
      "0 12 [1, 3, 0] 0.0\n",
      "impossible connectivity found! you idiot!\n",
      "impossible connectivity found! you idiot!\n",
      "impossible connectivity found! you idiot!\n",
      "1 0 [0, 0, 0] 1.0\n",
      "#####################################################################################\n"
     ]
    },
    {
     "ename": "AssertionError",
     "evalue": "1, 0, [0, 0], 0.0 != 0.0625, 0.0625 != 0.0",
     "output_type": "error",
     "traceback": [
      "\u001b[0;31m---------------------------------------------------------------------------\u001b[0m",
      "\u001b[0;31mAssertionError\u001b[0m                            Traceback (most recent call last)",
      "Cell \u001b[0;32mIn [259], line 78\u001b[0m\n\u001b[1;32m     74\u001b[0m \u001b[38;5;66;03m# np.random.shuffle(tmpNames)\u001b[39;00m\n\u001b[1;32m     76\u001b[0m \u001b[38;5;28;01mfor\u001b[39;00m n \u001b[38;5;129;01min\u001b[39;00m tmpNames:\n\u001b[1;32m     77\u001b[0m     \u001b[38;5;66;03m# parse_filename(\"2_0_0.5_1.png\")\u001b[39;00m\n\u001b[0;32m---> 78\u001b[0m     \u001b[43mparse_filename\u001b[49m\u001b[43m(\u001b[49m\u001b[43mn\u001b[49m\u001b[43m)\u001b[49m\n\u001b[1;32m     80\u001b[0m \u001b[38;5;66;03m# Loop through all files in the directory\u001b[39;00m\n\u001b[1;32m     81\u001b[0m \u001b[38;5;66;03m# for filename in os.listdir(directory):\u001b[39;00m\n\u001b[1;32m     82\u001b[0m \u001b[38;5;66;03m#     if filename.endswith('.png'):\u001b[39;00m\n\u001b[0;32m   (...)\u001b[0m\n\u001b[1;32m     85\u001b[0m \u001b[38;5;66;03m# # Now the matrix is filled with the values from the filenames\u001b[39;00m\n\u001b[1;32m     86\u001b[0m \u001b[38;5;66;03m# print(matrix)\u001b[39;00m\n",
      "Cell \u001b[0;32mIn [259], line 31\u001b[0m, in \u001b[0;36mparse_filename\u001b[0;34m(filename)\u001b[0m\n\u001b[1;32m     29\u001b[0m \u001b[38;5;28;01mif\u001b[39;00m assignmentCount[\u001b[38;5;241m0\u001b[39m, x_row, x_col] \u001b[38;5;241m>\u001b[39m \u001b[38;5;241m0\u001b[39m:\n\u001b[1;32m     30\u001b[0m     \u001b[38;5;28mprint\u001b[39m(\u001b[38;5;124m\"\u001b[39m\u001b[38;5;124m#####################################################################################\u001b[39m\u001b[38;5;124m\"\u001b[39m)\n\u001b[0;32m---> 31\u001b[0m     \u001b[38;5;28;01massert\u001b[39;00m  matrix[\u001b[38;5;241m0\u001b[39m, \u001b[38;5;241m0\u001b[39m, x_row, x_col] \u001b[38;5;241m==\u001b[39m a \u001b[38;5;129;01mand\u001b[39;00m matrix[\u001b[38;5;241m0\u001b[39m, \u001b[38;5;241m1\u001b[39m, x_row, x_col] \u001b[38;5;241m==\u001b[39m b, \u001b[38;5;124mf\u001b[39m\u001b[38;5;124m\"\u001b[39m\u001b[38;5;132;01m{\u001b[39;00mx\u001b[38;5;132;01m}\u001b[39;00m\u001b[38;5;124m, \u001b[39m\u001b[38;5;132;01m{\u001b[39;00my\u001b[38;5;132;01m}\u001b[39;00m\u001b[38;5;124m, [\u001b[39m\u001b[38;5;132;01m{\u001b[39;00mx_row\u001b[38;5;132;01m}\u001b[39;00m\u001b[38;5;124m, \u001b[39m\u001b[38;5;132;01m{\u001b[39;00mx_col\u001b[38;5;132;01m}\u001b[39;00m\u001b[38;5;124m], \u001b[39m\u001b[38;5;132;01m{\u001b[39;00mmatrix[\u001b[38;5;241m0\u001b[39m,\u001b[38;5;250m \u001b[39m\u001b[38;5;241m0\u001b[39m,\u001b[38;5;250m \u001b[39mx_row,\u001b[38;5;250m \u001b[39mx_col]\u001b[38;5;132;01m}\u001b[39;00m\u001b[38;5;124m != \u001b[39m\u001b[38;5;132;01m{\u001b[39;00ma\u001b[38;5;132;01m}\u001b[39;00m\u001b[38;5;124m, \u001b[39m\u001b[38;5;132;01m{\u001b[39;00mmatrix[\u001b[38;5;241m0\u001b[39m,\u001b[38;5;250m \u001b[39m\u001b[38;5;241m1\u001b[39m,\u001b[38;5;250m \u001b[39mx_row,\u001b[38;5;250m \u001b[39mx_col]\u001b[38;5;132;01m}\u001b[39;00m\u001b[38;5;124m != \u001b[39m\u001b[38;5;132;01m{\u001b[39;00mb\u001b[38;5;132;01m}\u001b[39;00m\u001b[38;5;124m\"\u001b[39m\n\u001b[1;32m     32\u001b[0m matrix[\u001b[38;5;241m0\u001b[39m, \u001b[38;5;241m0\u001b[39m, x_row, x_col] \u001b[38;5;241m=\u001b[39m a\n\u001b[1;32m     33\u001b[0m matrix[\u001b[38;5;241m0\u001b[39m, \u001b[38;5;241m1\u001b[39m, x_row, x_col] \u001b[38;5;241m=\u001b[39m b\n",
      "\u001b[0;31mAssertionError\u001b[0m: 1, 0, [0, 0], 0.0 != 0.0625, 0.0625 != 0.0"
     ]
    }
   ],
   "source": [
    "import matplotlib.pyplot as plt\n",
    "import numpy as np\n",
    "import os\n",
    "\n",
    "# Set the directory containing the image files\n",
    "directory = 'path_to_your_directory'\n",
    "\n",
    "# Initialize an empty matrix\n",
    "N = 4  # Adjust this based on your grid size\n",
    "matrix = np.zeros((2, 2, N, N))\n",
    "assignmentCount = np.zeros((2, N, N))\n",
    "\n",
    "\n",
    "# Function to parse the filename and update the matrix\n",
    "def parse_filename(filename):\n",
    "    base = os.path.basename(filename)\n",
    "    name, _ = os.path.splitext(base)\n",
    "    x, y, a, b = map(float, name.split('_'))\n",
    "    x, y = int(x), int(y)\n",
    "\n",
    "    # Handle periodic boundary conditions\n",
    "    if abs(x - y) == N-1 or abs(x - y) == N*(N-1):\n",
    "        x_row, x_col = divmod(max(x, y), N)\n",
    "    else:\n",
    "        x_row, x_col = divmod(min(x, y), N)\n",
    "\n",
    "    if abs(x - y) == 1 and (min(x,y)+1)%N != 0:  # Horizontal connection\n",
    "        print(x,y, f\"[0, {x_row}, {x_col}]\", assignmentCount[0, x_row, x_col])\n",
    "        if assignmentCount[0, x_row, x_col] > 0:\n",
    "            print(\"#####################################################################################\")\n",
    "            assert  matrix[0, 0, x_row, x_col] == a and matrix[0, 1, x_row, x_col] == b, f\"{x}, {y}, [{x_row}, {x_col}], {matrix[0, 0, x_row, x_col]} != {a}, {matrix[0, 1, x_row, x_col]} != {b}\"\n",
    "        matrix[0, 0, x_row, x_col] = a\n",
    "        matrix[0, 1, x_row, x_col] = b\n",
    "        assignmentCount[0, x_row, x_col] += 1        \n",
    "        assert np.all(assignmentCount) < 2,f\"{x}, {y}, [{x_row}, {x_col}], {assignmentCount[assignmentCount > 2]}\"\n",
    "    elif abs(x - y) == N-1:\n",
    "        print(x,y, f\"[0, {x_row}, {x_col}]\", assignmentCount[0, x_row, x_col])\n",
    "        if assignmentCount[0, x_row, x_col] > 0:\n",
    "            print(\"#####################################################################################\")\n",
    "            assert  matrix[0, 0, x_row, x_col] == b and matrix[0, 1, x_row, x_col] == a, f\"{x}, {y}, [{x_row}, {x_col}], {matrix[0, 0, x_row, x_col]} != {b}, {matrix[0, 1, x_row, x_col]} != {a} \"\n",
    "        matrix[0, 0, x_row, x_col] = b\n",
    "        matrix[0, 1, x_row, x_col] = a\n",
    "        assignmentCount[0, x_row, x_col] += 1\n",
    "        assert np.all(assignmentCount) < 2,f\"{x}, {y}, [{x_row}, {x_col}], {assignmentCount[assignmentCount > 2]}\"\n",
    "    elif abs(x - y) == N:  # Vertical connection\n",
    "        print(x,y, f\"[1, {x_row}, {x_col}]\", assignmentCount[0, x_row, x_col])\n",
    "        if assignmentCount[1, x_row, x_col] > 0:\n",
    "            print(\"#####################################################################################\")\n",
    "            assert  matrix[1, 0, x_row, x_col] == b and matrix[1, 1, x_row, x_col] == a, f\"{x}, {y}, [{x_row}, {x_col}]\"\n",
    "        matrix[1, 0, x_row, x_col] = b\n",
    "        matrix[1, 1, x_row, x_col] = a\n",
    "        assignmentCount[1, x_row, x_col] += 1\n",
    "        assert np.all(assignmentCount) < 2,f\"{x}, {y}, [{x_row}, {x_col}], {assignmentCount[assignmentCount > 2]}\"\n",
    "    elif abs(x - y) == N*(N-1):\n",
    "        print(x,y, f\"[1, {x_row}, {x_col}]\", assignmentCount[0, x_row, x_col])\n",
    "        if assignmentCount[1, x_row, x_col] > 0:\n",
    "            print(\"#####################################################################################\")\n",
    "            assert  matrix[1, 0, x_row, x_col] == a and matrix[1, 1, x_row, x_col] == b, f\"{x}, {y}, [{x_row}, {x_col}]\"\n",
    "        matrix[1, 0, x_row, x_col] = a\n",
    "        matrix[1, 1, x_row, x_col] = b\n",
    "        assignmentCount[1, x_row, x_col] += 1\n",
    "        assert np.all(assignmentCount) < 2,f\"{x}, {y}, [{x_row}, {x_col}], {assignmentCount[assignmentCount > 2]}\"\n",
    "    else:\n",
    "        # assert False, \"impossible connectivity found! you idiot!\"\n",
    "        print(\"impossible connectivity found! you idiot!\")\n",
    "\n",
    "\n",
    "\n",
    "tmpNames = []\n",
    "for i in range(N**2):\n",
    "    for j in range(N**2):\n",
    "        tmpNames.append(f\"{i}_{j}_{i/N/N}_{j/N/N}.png\")\n",
    "        \n",
    "# np.random.shuffle(tmpNames)\n",
    "        \n",
    "for n in tmpNames:\n",
    "    # parse_filename(\"2_0_0.5_1.png\")\n",
    "    parse_filename(n)\n",
    "\n",
    "# Loop through all files in the directory\n",
    "# for filename in os.listdir(directory):\n",
    "#     if filename.endswith('.png'):\n",
    "#         parse_filename(os.path.join(directory, filename))\n",
    "\n",
    "# # Now the matrix is filled with the values from the filenames\n",
    "# print(matrix)\n"
   ]
  },
  {
   "cell_type": "code",
   "execution_count": 250,
   "metadata": {},
   "outputs": [
    {
     "data": {
      "text/plain": [
       "0.1875"
      ]
     },
     "execution_count": 250,
     "metadata": {},
     "output_type": "execute_result"
    }
   ],
   "source": [
    "matrix[1,1,3,3]"
   ]
  },
  {
   "cell_type": "code",
   "execution_count": 224,
   "metadata": {},
   "outputs": [
    {
     "name": "stdout",
     "output_type": "stream",
     "text": [
      "1_4_0.0625_0.25.png\n",
      "11_4_0.6875_0.25.png\n"
     ]
    }
   ],
   "source": [
    "for t in tmpNames:\n",
    "    if \"1_4\" in t:\n",
    "        print(t)"
   ]
  },
  {
   "cell_type": "code",
   "execution_count": 202,
   "metadata": {},
   "outputs": [
    {
     "data": {
      "image/png": "[encoded data removed]",
      "text/plain": [
       "<Figure size 640x480 with 1 Axes>"
      ]
     },
     "metadata": {},
     "output_type": "display_data"
    }
   ],
   "source": [
    "# Create a figure and axis\n",
    "fig, ax = plt.subplots()\n",
    "\n",
    "# Set up the grid\n",
    "points = np.arange(N * N).reshape(N, N)\n",
    "\n",
    "offset = 0.05\n",
    "shrinkage = 0.1\n",
    "\n",
    "# Draw the arrows based on the matrix values\n",
    "for i in range(N):\n",
    "    for j in range(N):\n",
    "        # Horizontal arrows\n",
    "        right_val = matrix[0, 0, i, j]\n",
    "        left_val = matrix[0, 1, i, j]\n",
    "        \n",
    "        ax.annotate(\"\", xy=(j + 1, N - 1 - i + offset), xytext=(j, N - 1 - i + offset), \n",
    "                    arrowprops=dict(facecolor=plt.cm.viridis(right_val), shrink=shrinkage))\n",
    "        ax.annotate(\"\", xy=(j, N - 1 - i - offset), xytext=(j + 1, N - 1 - i - offset), \n",
    "                    arrowprops=dict(facecolor=plt.cm.viridis(left_val), shrink=shrinkage))\n",
    "        \n",
    "        \n",
    "        # Vertical arrows\n",
    "        up_val = matrix[1, 0, i, j]\n",
    "        down_val = matrix[1, 1, i, j]\n",
    "        \n",
    "        ax.annotate(\"\", xy=(j - offset, N - 1 - i), xytext=(j - offset, N - 1 - i - 1), \n",
    "                    arrowprops=dict(facecolor=plt.cm.viridis(up_val), shrink=shrinkage))\n",
    "        ax.annotate(\"\", xy=(j + offset, N - 1 - i - 1), xytext=(j + offset, N - 1 - i), \n",
    "                    arrowprops=dict(facecolor=plt.cm.viridis(down_val), shrink=shrinkage))\n",
    "\n",
    "    \n",
    "# Set the aspect of the plot to be equal\n",
    "ax.set_aspect('equal')\n",
    "\n",
    "# Set axis limits\n",
    "ax.set_xlim(-0.5, N)\n",
    "ax.set_ylim(-1, N-0.5)\n",
    "\n",
    "# Remove axis ticks\n",
    "ax.set_xticks([])\n",
    "ax.set_yticks([])\n",
    "\n",
    "# Add grid\n",
    "ax.grid(True)\n",
    "\n",
    "# Show the plot\n",
    "# plt.imsave(os.path.join(directory, \"barriers.png\"))\n",
    "plt.show()\n"
   ]
  },
  {
   "cell_type": "code",
   "execution_count": 266,
   "metadata": {},
   "outputs": [],
   "source": [
    "import os\n",
    "\n",
    "targetDir = \"/Users/Michael_wang/Documents/venkat/mint-PD/PhaseDiagram-Clease/barriers/sys2\"\n",
    "\n",
    "count = 1\n",
    "for i in range(16):\n",
    "    for j in range(16):\n",
    "        tmpDir = os.path.join(targetDir, str(count))\n",
    "        os.makedirs(tmpDir, exist_ok=True)\n",
    "        plt.imsave(os.path.join(tmpDir, f\"{i}_{j}_{i*j/15/15/1.02}_{i*j/15/15}.png\"), np.zeros((3,3,3)))\n",
    "        # tmpNames.append()\n",
    "        count += 1"
   ]
  },
  {
   "cell_type": "code",
   "execution_count": 162,
   "metadata": {},
   "outputs": [
    {
     "name": "stderr",
     "output_type": "stream",
     "text": [
      "16931.18s - pydevd: Sending message related to process being replaced timed-out after 5 seconds\n"
     ]
    },
    {
     "name": "stdout",
     "output_type": "stream",
     "text": [
      "/Users/Michael_wang/Documents/venkat/mint-PD/PhaseDiagram-Clease/Liquid\n"
     ]
    }
   ],
   "source": [
    "!pwd"
   ]
  },
  {
   "cell_type": "code",
   "execution_count": null,
   "metadata": {},
   "outputs": [],
   "source": []
  }
 ],
 "metadata": {
  "kernelspec": {
   "display_name": "casm",
   "language": "python",
   "name": "python3"
  },
  "language_info": {
   "codemirror_mode": {
    "name": "ipython",
    "version": 3
   },
   "file_extension": ".py",
   "mimetype": "text/x-python",
   "name": "python",
   "nbconvert_exporter": "python",
   "pygments_lexer": "ipython3",
   "version": "3.9.13"
  }
 },
 "nbformat": 4,
 "nbformat_minor": 2
}
